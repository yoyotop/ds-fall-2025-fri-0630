{
 "cells": [
  {
   "cell_type": "markdown",
   "id": "3232406f",
   "metadata": {},
   "source": [
    "# Live Coding Demo: Vibe Coding a Hugging Face Music Genre Prediction App"
   ]
  },
  {
   "cell_type": "markdown",
   "id": "6ce5ead8",
   "metadata": {},
   "source": [
    "# 1. Planning (Framing the Task)\n",
    "\n",
    "**Goal: Build a simple Streamlit app that takes song lyrics → predicts its genre using a [Hugging Face](https://huggingface.co/) model.**\n",
    "\n",
    "Tools: Python, Cursor IDE, Streamlit, Hugging Face models.\n",
    "\n",
    "Mindset: Treat AI as your not-so-smart Jarvis → \"I explain clearly, it drafts code, I proof-check and refine.\"\n",
    "\n",
    "___"
   ]
  },
  {
   "cell_type": "markdown",
   "id": "83fb73c4",
   "metadata": {},
   "source": [
    "# 1.1 Scaffolding: venv + requirements + minimal Streamlit\n",
    "**Step 1: Set up the environment**\n",
    "\n",
    "Steps & Cursor prompts:\n",
    "\n",
    "1. Create project folder & virtual environment\n",
    "\n",
    "    * Create a project folder, name it ***app_demo***.\n",
    "\n",
    "   \n",
    "    Cursor prompt:\n",
    "    * “In a fresh folder inside `app_demo`, initialize a Python venv called venv. Making sure it is gitignored.”\n",
    "\n",
    "2. Activate the venv\n",
    "    * Mac: `source venv/bin/activate`  \n",
    "    * Windows (Powershell): `.\\venv\\Scripts\\Activate.ps1`\n",
    "\n",
    "3. Build `requirements.txt`\n",
    "\n",
    "    Cursor prompt:\n",
    "    * “Generate a `requirements.txt` neccessary for a basic streamlit app. Then run the command to install it on the venv.”\n",
    "\n",
    "    * Sanity check: `pip install -r requirements.txt`\n",
    "\n",
    "- Debug any mistakes such as non-gitignored `venv` folder, wrong libraries, wrong working directory, etc. \n",
    "___"
   ]
  },
  {
   "cell_type": "markdown",
   "id": "38b141bf",
   "metadata": {},
   "source": [
    "# 1.2 Create a basic Streamlit page\n",
    "\n",
    "Cursor prompt:\n",
    "* “Create a minimal Streamlit app (app.py) for a music genre guesser application, with a title, text input for user prompt, the user can enter lyrics in a box, and press a button to classify the genre. Do not implement the classification yet.\"\n",
    "\n",
    "\n",
    "    * Ensure this runs via `streamlit run app.py` without errors.”\n",
    "    * Go over each file being generated, scanning line by line additions and seeing if they make sense.\n",
    "    * You can include a terminal's error log as part of the context. \n",
    "___"
   ]
  },
  {
   "cell_type": "markdown",
   "id": "e2c3a60a",
   "metadata": {},
   "source": [
    "# 2.0 Finding a Suitable Hugging Face Model\n",
    "\n",
    "* Pull up [Hugging Face](https://huggingface.co/models?pipeline_tag=zero-shot-classification&sort=downloads) and search “zero-shot text classification model”. \n",
    "* Sort by most downloads\n",
    "* Let's use the `facebook/bart-large-mnli` model since it looks well documented. \n",
    "* Show the model card: explanation, task, usage examples. E.g., they frame zero-shot by turning labels into NLI hypothesis (“This text is about X”)\n",
    "\n",
    "![HF](images/HF.png)"
   ]
  },
  {
   "cell_type": "markdown",
   "id": "fc4157b8",
   "metadata": {},
   "source": [
    "# 2.1 Loading the Model\n",
    "\n",
    "*Cursor prompt to add model logic:*\n",
    "* \"In `app.py` load the `facebook/bart-large-mnli` model, ensuring to update `requirements.txt` and the `venv` accordingly.\"\n",
    "\n",
    "*This step may take a couple minutes*\n",
    "\n",
    "Proof reading: \n",
    "1. Test with different song lyrics"
   ]
  },
  {
   "cell_type": "markdown",
   "id": "64e81d09",
   "metadata": {},
   "source": [
    "![Application image](images/app_.png)"
   ]
  }
 ],
 "metadata": {
  "language_info": {
   "name": "python"
  }
 },
 "nbformat": 4,
 "nbformat_minor": 5
}
