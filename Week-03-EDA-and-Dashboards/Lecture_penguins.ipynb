{
 "cells": [
  {
   "cell_type": "markdown",
   "metadata": {},
   "source": [
    "\n",
    "\n",
    "# Data Exploration and Visualizations\n",
    "\n",
    "*Exploratory Data Analysis (EDA)* is the process where a Data Scientist gathers information \n",
    "from a dataset. This inclues knowing the source of the data, an understading \n",
    "of what the data itself represents, the features that describe the data, the type \n",
    "of data in each feature, and what stories comes out from the data. \n",
    "\n",
    "<img src='https://d3lkc3n5th01x7.cloudfront.net/wp-content/uploads/2023/05/08040831/Exploratory-Data-Analysis.png'>\n",
    "\n",
    "Data visualisation is the most agile method to acquire information from a dataset."
   ]
  },
  {
   "cell_type": "markdown",
   "metadata": {},
   "source": [
    "# Goals of this lecture\n",
    "0. Know your data before you start. \n",
    "0. Inspect data for faults\n",
    "0. How to explore your data. \n",
    "0. How to find relationships mathematically and visually. \n",
    "0. To give you the building blocks on visualizing data with python. "
   ]
  },
  {
   "cell_type": "code",
   "execution_count": null,
   "metadata": {},
   "outputs": [],
   "source": [
    "# Our data management libraries\n",
    "import pandas as pd\n",
    "import numpy as np\n",
    "\n",
    "# A basic visualization library\n",
    "import matplotlib.pyplot as plt\n",
    "\n",
    "# A great visualization library\n",
    "import seaborn as sns\n",
    "\n",
    "# Very important, this will make your charts appear in your notebook instead of in a new window.\n",
    "%matplotlib inline"
   ]
  },
  {
   "cell_type": "markdown",
   "metadata": {},
   "source": [
    "# First things first... load the data"
   ]
  },
  {
   "cell_type": "code",
   "execution_count": null,
   "metadata": {},
   "outputs": [],
   "source": [
    "df = pd.read_csv('data/penguins.csv')\n",
    "df.head()"
   ]
  },
  {
   "cell_type": "markdown",
   "metadata": {},
   "source": [
    "Let's understand this dataset.. \n",
    "## WTH is a Culmen?\n",
    "<img src='https://pbs.twimg.com/media/EaAXQn8U4AAoKUj.jpg:large' height=450 style=\"background-color:white;\">"
   ]
  },
  {
   "cell_type": "code",
   "execution_count": null,
   "metadata": {},
   "outputs": [],
   "source": [
    "df['species'].value_counts()"
   ]
  },
  {
   "cell_type": "markdown",
   "metadata": {},
   "source": [
    "<img src='https://allisonhorst.github.io/palmerpenguins/reference/figures/lter_penguins.png' height=450 style=\"background-color:white;\">\n",
    "\n",
    "<img src=\"https://www.gabemednick.com/post/penguin/featured_hu23a2ff6767279debab043a6c8f0a6157_878472_720x0_resize_lanczos_2.png\" height=450>\n",
    "\n",
    "![alt text](https://upload.wikimedia.org/wikipedia/commons/1/15/Palmer_archipelago%2C_Antarctica.jpg)"
   ]
  },
  {
   "cell_type": "markdown",
   "metadata": {},
   "source": [
    "### Lets see how 'big' our data is by printing its shape."
   ]
  },
  {
   "cell_type": "code",
   "execution_count": null,
   "metadata": {},
   "outputs": [],
   "source": [
    "print(df.shape)"
   ]
  },
  {
   "cell_type": "markdown",
   "metadata": {},
   "source": [
    "# Lets look at the description and information about our dataset.\n",
    "* Why, it gives us a high level summary view of our data."
   ]
  },
  {
   "cell_type": "code",
   "execution_count": null,
   "metadata": {},
   "outputs": [],
   "source": [
    "df.describe()"
   ]
  },
  {
   "cell_type": "code",
   "execution_count": null,
   "metadata": {},
   "outputs": [],
   "source": [
    "df.info()"
   ]
  },
  {
   "cell_type": "markdown",
   "metadata": {},
   "source": [
    "# Lets check if we have any null values in our data."
   ]
  },
  {
   "cell_type": "code",
   "execution_count": null,
   "metadata": {},
   "outputs": [],
   "source": [
    "df.isnull()"
   ]
  },
  {
   "cell_type": "markdown",
   "metadata": {},
   "source": [
    "### Remove, aka Drop, our null values"
   ]
  },
  {
   "cell_type": "code",
   "execution_count": null,
   "metadata": {},
   "outputs": [],
   "source": [
    "df.isnull().sum()"
   ]
  },
  {
   "cell_type": "code",
   "execution_count": null,
   "metadata": {},
   "outputs": [],
   "source": [
    "print(f'Shape before dropping NA: {df.shape}')\n",
    "\n",
    "# df.dropna(inplace=True)\n",
    "df = df.dropna()\n",
    "\n",
    "# Sanity Check\n",
    "print(f'Shape after dropping NA: {df.shape}')\n",
    "\n",
    "# print how many null values there are\n",
    "df.isnull().sum()\n"
   ]
  },
  {
   "cell_type": "markdown",
   "metadata": {},
   "source": [
    "### Instead of just dropping Null values, you can fill them in creative ways.  \n",
    "[here is a tutorial about that](https://pandas.pydata.org/docs/reference/api/pandas.DataFrame.fillna.html)\n",
    "\n",
    "```python\n",
    "df = pd.read_csv('data/penguins.csv')\n",
    "df['culmen_length_mm'].fillna(df['culmen_length_mm'].median(), inplace=True)\n",
    "df.isnull().sum()\n",
    "```\n"
   ]
  },
  {
   "cell_type": "markdown",
   "metadata": {},
   "source": [
    "---"
   ]
  },
  {
   "cell_type": "markdown",
   "metadata": {},
   "source": [
    "# Check for duplicate rows."
   ]
  },
  {
   "cell_type": "code",
   "execution_count": null,
   "metadata": {},
   "outputs": [],
   "source": [
    "print(f'Number of duplicated rows: {df.duplicated().sum()}')\n",
    "df.duplicated()"
   ]
  },
  {
   "cell_type": "markdown",
   "metadata": {},
   "source": [
    "# Drop said duplicates...\n",
    "Because `df.duplicated()` returns a selection boolean mask, it's `True` when the row is duplicated, how could we use that filter to remove the duplicated rows from our dataset..?"
   ]
  },
  {
   "cell_type": "code",
   "execution_count": null,
   "metadata": {},
   "outputs": [],
   "source": [
    "# Ask students to solve this one...\n",
    "print(df.shape, 'before dropping dupes')\n",
    "\n",
    "# Another way to do the same thing\n",
    "df = df.drop_duplicates()\n",
    "\n",
    "print(df.shape, 'after dropping dupes')"
   ]
  },
  {
   "cell_type": "markdown",
   "metadata": {},
   "source": [
    "# Plotting\n",
    "`df.plot(kind='scatter', x='COLUMN_NAME', y='COLUMN_NAME')`\n",
    "```\n",
    "The kinds of plot we can produce:\n",
    "        - 'line' : line plot (default)\n",
    "        - 'bar' : vertical bar plot\n",
    "        - 'barh' : horizontal bar plot\n",
    "        - 'hist' : histogram\n",
    "        - 'box' : boxplot\n",
    "        - 'kde' : Kernel Density Estimation plot\n",
    "        - 'density' : same as 'kde'\n",
    "        - 'area' : area plot\n",
    "        - 'pie' : pie plot\n",
    "        - 'scatter' : scatter plot\n",
    "        - 'hexbin' : hexbin plot.`\n",
    "```"
   ]
  },
  {
   "cell_type": "code",
   "execution_count": null,
   "metadata": {},
   "outputs": [],
   "source": [
    "df.plot(\n",
    "    kind='scatter', \n",
    "    x='culmen_length_mm', \n",
    "    y='flipper_length_mm',\n",
    "    figsize=(8, 5),\n",
    "    alpha=0.5)"
   ]
  },
  {
   "cell_type": "markdown",
   "metadata": {},
   "source": [
    "# How do we remove this outlier...?"
   ]
  },
  {
   "cell_type": "code",
   "execution_count": null,
   "metadata": {},
   "outputs": [],
   "source": [
    "# Ask students to see if they can answer this. \n",
    "\n",
    "select_condition = df.culmen_length_mm < 70\n",
    "\n",
    "df = df[select_condition]\n",
    "\n",
    "df.plot(\n",
    "    kind='scatter', \n",
    "    x='culmen_length_mm', \n",
    "    y='flipper_length_mm', \n",
    "    figsize=(8, 5), \n",
    "    alpha=0.77)"
   ]
  },
  {
   "cell_type": "markdown",
   "metadata": {},
   "source": [
    "# More plotting."
   ]
  },
  {
   "cell_type": "code",
   "execution_count": null,
   "metadata": {},
   "outputs": [],
   "source": [
    "df.plot(kind='scatter', \n",
    "        x='body_mass_g', \n",
    "        y='flipper_length_mm', \n",
    "        figsize=(8,5),\n",
    "        title='Body Mass vs Flipper Length');"
   ]
  },
  {
   "cell_type": "markdown",
   "metadata": {},
   "source": [
    "# Bar Charts"
   ]
  },
  {
   "cell_type": "code",
   "execution_count": null,
   "metadata": {},
   "outputs": [],
   "source": [
    "df.head()"
   ]
  },
  {
   "cell_type": "markdown",
   "metadata": {},
   "source": [
    "# Plotting Group-by Objects"
   ]
  },
  {
   "cell_type": "code",
   "execution_count": null,
   "metadata": {},
   "outputs": [],
   "source": [
    "# Find the mean culmen_length_mm for each of the species \n",
    "gb = df.groupby('species')\n",
    "# Find the mean\n",
    "culmen_mean = gb['culmen_length_mm'].mean()\n",
    "\n",
    "# Plot it\n",
    "culmen_mean.plot(kind='barh',\n",
    "                figsize=(8,5), \n",
    "                 xlabel='Mean Culmen Length (mm)', \n",
    "                 title='Mean Culmen Length by Species');"
   ]
  },
  {
   "cell_type": "markdown",
   "metadata": {},
   "source": [
    "# Histograms are great for finding what type of distribution the data is."
   ]
  },
  {
   "cell_type": "code",
   "execution_count": null,
   "metadata": {},
   "outputs": [],
   "source": [
    "df['culmen_length_mm'].plot(kind='hist', \n",
    "                            bins=20, \n",
    "                            figsize=(5,5),\n",
    "                            title='Distribution of Culmen Length (mm)',\n",
    "                            xlabel='Culmen Length (mm)');"
   ]
  },
  {
   "cell_type": "code",
   "execution_count": null,
   "metadata": {},
   "outputs": [],
   "source": [
    "df['body_mass_g'].plot(kind='hist', bins=20, title='Body Mass (g)', xlabel='Body Mass (g)', figsize=(5,5));"
   ]
  },
  {
   "cell_type": "markdown",
   "metadata": {},
   "source": [
    "# Enter [Seaborn](https://seaborn.pydata.org/)\n",
    "Seaborn is a visualization library that makes pretty plotting easy and fun. \n",
    "* Gallery of Examples:  https://seaborn.pydata.org/examples/index.html\n"
   ]
  },
  {
   "cell_type": "markdown",
   "metadata": {},
   "source": [
    "### Scatter plots with Seaborn\n",
    "* [Scatterplot Reference](https://seaborn.pydata.org/generated/seaborn.scatterplot.html#seaborn.scatterplot)"
   ]
  },
  {
   "cell_type": "code",
   "execution_count": null,
   "metadata": {
    "scrolled": true
   },
   "outputs": [],
   "source": [
    "import seaborn as sns\n",
    "# Dont forget to call sns.set()! \n",
    "sns.set()\n",
    "\n",
    "# This tells the program to use the seaborn styles \n",
    "# Which make our graphs awesome looking\n",
    "\n",
    "# # Call using sns, and pass in the data frame.\n",
    "# ax = sns.scatterplot(data=df, x='culmen_length_mm', y='body_mass_g', hue='species');\n",
    "\n",
    "# Find the mean culmen_length_mm for each of the species \n",
    "gb = df.groupby('species')\n",
    "\n",
    "\n",
    "culmen_mean = gb['culmen_length_mm'].mean()\n",
    "\n",
    "# Make a bar plot of said means\n",
    "culmen_mean.plot(kind='barh', \n",
    "                 color=['red', 'blue', 'green'],\n",
    "                 xlabel='Mean Culmen Length (mm)', \n",
    "                 title='Mean Culmen Length by Species');"
   ]
  },
  {
   "cell_type": "markdown",
   "metadata": {},
   "source": [
    "### Seaborn plotting functions return an `axis` object aka `ax`, which you can then set chart options on. \n",
    "* All the options you can set using the axis object.\n",
    "    * https://matplotlib.org/3.3.1/api/axes_api.html"
   ]
  },
  {
   "cell_type": "code",
   "execution_count": null,
   "metadata": {},
   "outputs": [],
   "source": [
    "ax = sns.scatterplot(\n",
    "    data=df, \n",
    "    x='body_mass_g', \n",
    "    y='culmen_length_mm', \n",
    "    alpha=0.8);\n",
    "\n",
    "ax.set_title(\"Relationship of Penguin's Culmen Length to Body Mass\");"
   ]
  },
  {
   "cell_type": "markdown",
   "metadata": {},
   "source": [
    "# Changing Axes"
   ]
  },
  {
   "cell_type": "code",
   "execution_count": null,
   "metadata": {},
   "outputs": [],
   "source": [
    "# Say you wanted to change the x-axis\n",
    "ax = sns.scatterplot(data=df, \n",
    "                     x='body_mass_g', \n",
    "                     y='culmen_depth_mm', \n",
    "                     alpha=0.8);\n",
    "\n",
    "ax.set_title(\"Relationship of Penguin's Body Mass to Culmen Depth\");"
   ]
  },
  {
   "cell_type": "markdown",
   "metadata": {},
   "source": [
    "## What if we wanted to change the color of the markers based on the species of penguin?\n",
    "* Have students read documentation it to see if they can figure it out.\n",
    "    * https://seaborn.pydata.org/generated/seaborn.scatterplot.html#seaborn.scatterplot"
   ]
  },
  {
   "cell_type": "code",
   "execution_count": null,
   "metadata": {},
   "outputs": [],
   "source": [
    "df.plot(kind='scatter', \n",
    "        x='body_mass_g', \n",
    "        y='flipper_length_mm', \n",
    "        figsize=(8,5),\n",
    "        title='Body Mass vs Flipper Length');"
   ]
  },
  {
   "cell_type": "code",
   "execution_count": null,
   "metadata": {},
   "outputs": [],
   "source": [
    "ax = sns.scatterplot(data=df, \n",
    "                     x='body_mass_g', \n",
    "                     y='flipper_length_mm', \n",
    "                     alpha=0.5, \n",
    "                     hue='species');\n",
    "\n",
    "# ax.set_title(\"Relationship of Penguin's Body Mass to Culmen Depth\");\n",
    "\n"
   ]
  },
  {
   "cell_type": "code",
   "execution_count": null,
   "metadata": {},
   "outputs": [],
   "source": [
    "ax = sns.scatterplot(data=df, \n",
    "                     x='body_mass_g', \n",
    "                     y='culmen_depth_mm', \n",
    "                     alpha=0.8, \n",
    "                     hue='species');\n",
    "\n",
    "ax.set_title(\"Relationship of Penguin's Body Mass to Culmen Depth\");"
   ]
  },
  {
   "cell_type": "code",
   "execution_count": null,
   "metadata": {},
   "outputs": [],
   "source": [
    "ax = sns.scatterplot(data=df, \n",
    "                x='body_mass_g', \n",
    "                y='culmen_length_mm', \n",
    "                hue='species', \n",
    "                palette='hls',\n",
    "                alpha=0.85);\n",
    "\n",
    "ax.set_title(\"Relationship of Penguin's Body Mass to Culmen Length\");"
   ]
  },
  {
   "cell_type": "markdown",
   "metadata": {},
   "source": [
    "# The super scatter plot"
   ]
  },
  {
   "cell_type": "code",
   "execution_count": null,
   "metadata": {},
   "outputs": [],
   "source": [
    "sns.jointplot(data=df, x='culmen_depth_mm', y='culmen_length_mm', hue='species', alpha=0.8);"
   ]
  },
  {
   "cell_type": "markdown",
   "metadata": {},
   "source": [
    "## Box & Whisker Plots \n",
    "* A five-number summary turned into a picture:\n",
    "\n",
    "1. Minimum (bottom whisker) – smallest non-outlier value.\n",
    "2. Q1 (25th percentile) – where 25% of the data lies below this point.\n",
    "3. Median (50th percentile) – the middle of the data.\n",
    "4. Q3 (75th percentile) – where 75% of the data lies below this point.\n",
    "5. Maximum (top whisker) – largest non-outlier value."
   ]
  },
  {
   "cell_type": "code",
   "execution_count": null,
   "metadata": {},
   "outputs": [],
   "source": [
    "ax = sns.boxplot(data=df, x='species', y='culmen_length_mm', hue='sex');\n",
    "ax.set_title(\"Distribution of Culmen Length by Species and Sex\");"
   ]
  },
  {
   "cell_type": "markdown",
   "metadata": {},
   "source": [
    "## The violin plot\n",
    "* They take everything a box plot shows… and adds a kernel density estimation (KDE) on each side.\n",
    "* AKA showing you the distribution of the data"
   ]
  },
  {
   "cell_type": "code",
   "execution_count": null,
   "metadata": {},
   "outputs": [],
   "source": [
    "ax = sns.violinplot(data=df, x='species', y='culmen_length_mm', hue='sex');\n",
    "ax.set_title(\"Distribution of Culmen Length by Species and Sex\");"
   ]
  },
  {
   "cell_type": "markdown",
   "metadata": {},
   "source": [
    "## The catch all plot function"
   ]
  },
  {
   "cell_type": "code",
   "execution_count": null,
   "metadata": {},
   "outputs": [],
   "source": [
    "# pairplot is a great way to quickly visualize pairwise relationships in a dataset\n",
    "sns.pairplot(df, hue='species', size=2.5);"
   ]
  },
  {
   "cell_type": "code",
   "execution_count": null,
   "metadata": {},
   "outputs": [],
   "source": []
  },
  {
   "cell_type": "code",
   "execution_count": null,
   "metadata": {},
   "outputs": [],
   "source": [
    "# getting a sample of the data\n",
    "sample_df = df.sample(frac=0.1);\n",
    "sample_df.shape"
   ]
  },
  {
   "cell_type": "markdown",
   "metadata": {},
   "source": [
    "## Plotting the line of best fit\n",
    "* Using `sns.regplot` and `sns.lmplot` you can easily plot regression analyses.\n",
    "    - `sns.regplot`: single line of best fit\n",
    "    - `sns.lmplot`: multiple lines"
   ]
  },
  {
   "cell_type": "code",
   "execution_count": null,
   "metadata": {},
   "outputs": [],
   "source": [
    "sns.regplot(data=df, x='body_mass_g', y='culmen_length_mm', scatter_kws={'alpha': 0.8});"
   ]
  },
  {
   "cell_type": "code",
   "execution_count": null,
   "metadata": {},
   "outputs": [],
   "source": [
    "sns.lmplot(data=df, x='body_mass_g', y='culmen_length_mm', hue='species', scatter_kws={'alpha': 0.8});"
   ]
  },
  {
   "cell_type": "markdown",
   "metadata": {},
   "source": [
    "# Finding Correlations in your data.\n",
    "In the broadest sense correlation is any statistical association, though it commonly refers to the degree to which a pair of variables are linearly related. \n",
    "\n",
    "[Learn more here](https://en.wikipedia.org/wiki/Correlation_and_dependence)"
   ]
  },
  {
   "cell_type": "markdown",
   "metadata": {},
   "source": [
    "<img src='https://www.onlinemathlearning.com/image-files/correlation-coefficient.png' width=500>"
   ]
  },
  {
   "cell_type": "code",
   "execution_count": null,
   "metadata": {},
   "outputs": [],
   "source": [
    "# This functions finds the correlation between all numerical values.\n",
    "df.corr() # why doesn't this work?"
   ]
  },
  {
   "cell_type": "code",
   "execution_count": null,
   "metadata": {},
   "outputs": [],
   "source": [
    "# some columns are non-numeric\n",
    "df.corr(numeric_only=True)"
   ]
  },
  {
   "cell_type": "markdown",
   "metadata": {},
   "source": [
    "# Easily visualize your correlations with a heatmap."
   ]
  },
  {
   "cell_type": "code",
   "execution_count": null,
   "metadata": {},
   "outputs": [],
   "source": [
    "sns.heatmap( df.corr(numeric_only=True) )"
   ]
  },
  {
   "cell_type": "code",
   "execution_count": null,
   "metadata": {},
   "outputs": [],
   "source": [
    "# sns.heatmap(df.corr(), annot=True, cmap='Spectral')\n",
    "\n",
    "# let's display the correlation values\n",
    "sns.heatmap(df.corr(numeric_only=True), \n",
    "            annot=True, \n",
    "            cmap='coolwarm');\n"
   ]
  },
  {
   "cell_type": "markdown",
   "metadata": {},
   "source": [
    "---"
   ]
  },
  {
   "cell_type": "markdown",
   "metadata": {},
   "source": [
    "\n",
    "# Main take aways I want you to remember. \n",
    "1. Use common sense, know what your data columns are before anything.\n",
    "\n",
    "2. Always inspect your data for nulls, dupes, and outliers. \n",
    "2. Plotting with pandas is easy, but limitied. Plotting libs usually return an `axis` object. \n",
    "3. Seaborn is great, but there are many many more libs for python for data viz. \n",
    "\n",
    "\n",
    "##### End of this lecture. "
   ]
  },
  {
   "cell_type": "markdown",
   "metadata": {},
   "source": [
    "---"
   ]
  }
 ],
 "metadata": {
  "kernelspec": {
   "display_name": "Python 3",
   "language": "python",
   "name": "python3"
  },
  "language_info": {
   "codemirror_mode": {
    "name": "ipython",
    "version": 3
   },
   "file_extension": ".py",
   "mimetype": "text/x-python",
   "name": "python",
   "nbconvert_exporter": "python",
   "pygments_lexer": "ipython3",
   "version": "3.12.1"
  }
 },
 "nbformat": 4,
 "nbformat_minor": 2
}
