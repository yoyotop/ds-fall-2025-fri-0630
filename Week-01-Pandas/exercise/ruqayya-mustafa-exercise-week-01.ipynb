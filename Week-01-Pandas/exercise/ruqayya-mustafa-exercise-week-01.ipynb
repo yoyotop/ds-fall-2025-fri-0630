{
 "cells": [
  {
   "cell_type": "markdown",
   "metadata": {},
   "source": [
    "# First print your name in the cell below then save this file. (or something nice about your instructor)"
   ]
  },
  {
   "cell_type": "code",
   "execution_count": 20,
   "metadata": {},
   "outputs": [
    {
     "name": "stdout",
     "output_type": "stream",
     "text": [
      "Ruqayya Mustafa\n",
      "Georgios is the best instructor!\n"
     ]
    }
   ],
   "source": [
    "# In this cell print your name \n",
    "print(\"Ruqayya Mustafa\")\n",
    "print(\"Georgios is the best instructor!\")"
   ]
  },
  {
   "cell_type": "markdown",
   "metadata": {},
   "source": [
    "# Data wrangling with Pandas exercise\n",
    "* For this exercise we will be using the `listings.csv` data file."
   ]
  },
  {
   "cell_type": "code",
   "execution_count": 16,
   "metadata": {},
   "outputs": [],
   "source": [
    "import pandas as pd\n",
    "import numpy as np"
   ]
  },
  {
   "cell_type": "markdown",
   "metadata": {},
   "source": [
    "# Load in the data file using `pd.read_csv()`"
   ]
  },
  {
   "cell_type": "code",
   "execution_count": 5,
   "metadata": {},
   "outputs": [
    {
     "name": "stdout",
     "output_type": "stream",
     "text": [
      "             id                                               name    host_id  \\\n",
      "0          2595                              Skylit Midtown Castle       2845   \n",
      "1          3831  Whole flr w/private bdrm, bath & kitchen(pls r...       4869   \n",
      "2          5121                                    BlissArtsSpace!       7356   \n",
      "3          5136           Spacious Brooklyn Duplex, Patio + Garden       7378   \n",
      "4          5178                   Large Furnished Room Near B'way　       8967   \n",
      "...         ...                                                ...        ...   \n",
      "46522  44807522         Designer Gramercy Studio Townhouse by UNSQ   12941925   \n",
      "46523  44807786  Cozy & comfy apt in the heart of Inwood Manhattan  284790520   \n",
      "46524  44811717  Comfortable safe environment 24hr security camera  362453686   \n",
      "46525  44814944                 Upper West Side studio 86th Street    4039777   \n",
      "46526  44818009  5MIN D/N trains, NEAR THE BEACH, 50’ TO MANHATTAN   48098268   \n",
      "\n",
      "         host_name neighbourhood_group       neighbourhood  latitude  \\\n",
      "0         Jennifer           Manhattan             Midtown  40.75362   \n",
      "1      LisaRoxanne            Brooklyn        Clinton Hill  40.68514   \n",
      "2            Garon            Brooklyn  Bedford-Stuyvesant  40.68688   \n",
      "3          Rebecca            Brooklyn         Sunset Park  40.66120   \n",
      "4         Shunichi           Manhattan      Hell's Kitchen  40.76489   \n",
      "...            ...                 ...                 ...       ...   \n",
      "46522        Brian           Manhattan            Gramercy  40.73433   \n",
      "46523        Salar           Manhattan  Washington Heights  40.85820   \n",
      "46524       Nicole            Brooklyn       East Flatbush  40.65399   \n",
      "46525     Fernando           Manhattan     Upper West Side  40.78731   \n",
      "46526       Marina            Brooklyn           Gravesend  40.59945   \n",
      "\n",
      "       longitude        room_type  price  minimum_nights  number_of_reviews  \\\n",
      "0      -73.98377  Entire home/apt    175               3                 48   \n",
      "1      -73.95976  Entire home/apt     75               1                340   \n",
      "2      -73.95596     Private room     60              29                 50   \n",
      "3      -73.99423  Entire home/apt    175              14                  1   \n",
      "4      -73.98493     Private room     65               2                473   \n",
      "...          ...              ...    ...             ...                ...   \n",
      "46522  -73.98383  Entire home/apt    145               7                  0   \n",
      "46523  -73.92733  Entire home/apt     87               6                  0   \n",
      "46524  -73.93287     Private room     59               3                  0   \n",
      "46525  -73.97029  Entire home/apt     80              30                  0   \n",
      "46526  -73.98209     Private room     66               1                  0   \n",
      "\n",
      "      last_review  reviews_per_month  calculated_host_listings_count  \\\n",
      "0      2019-11-04               0.37                               2   \n",
      "1      2020-08-01               4.75                               1   \n",
      "2      2019-12-02               0.37                               1   \n",
      "3      2014-01-02               0.01                               1   \n",
      "4      2020-03-15               3.44                               1   \n",
      "...           ...                ...                             ...   \n",
      "46522         NaN                NaN                               1   \n",
      "46523         NaN                NaN                               2   \n",
      "46524         NaN                NaN                               1   \n",
      "46525         NaN                NaN                               1   \n",
      "46526         NaN                NaN                               1   \n",
      "\n",
      "       availability_365  \n",
      "0                   365  \n",
      "1                   265  \n",
      "2                   365  \n",
      "3                   295  \n",
      "4                   340  \n",
      "...                 ...  \n",
      "46522               164  \n",
      "46523                85  \n",
      "46524                90  \n",
      "46525               113  \n",
      "46526                38  \n",
      "\n",
      "[46527 rows x 16 columns]\n"
     ]
    }
   ],
   "source": [
    "# Load data here\n",
    "import pandas as pd\n",
    "df = pd.read_csv(\"/workspaces/ds-fall-2025-fri-0630/Week-01-Pandas/data/listings.csv\")\n",
    "print(df)"
   ]
  },
  {
   "cell_type": "markdown",
   "metadata": {},
   "source": [
    "## Exercise 2 - Filtering\n",
    "\n",
    "Return the following subsets of the dataframe.\n",
    "\n",
    "1. How many listings are there with a price less than 100? \n",
    "\n",
    "\n",
    "2. Find how many listings there are in just Brooklyn.\n",
    "\n",
    "\n",
    "3. Find how many listings there are in Brooklyn with a price less than 100.\n",
    "\n",
    "\n",
    "4. Using `.isin()` select anyone that has the host name of Michael, David, John, and Daniel.\n",
    "\n",
    "\n",
    "5. Create a new column called `adjusted_price` that has $100 added to every listing in Williamsburg.  The prices for all other listings should be the same as the were before. \n",
    "\n",
    "\n",
    "6. What % of the rooms are private, and what % of the rooms are shared.  \n",
    "    * Hint, use `.value_counts()`\n"
   ]
  },
  {
   "cell_type": "code",
   "execution_count": 19,
   "metadata": {},
   "outputs": [
    {
     "name": "stdout",
     "output_type": "stream",
     "text": [
      "22778\n"
     ]
    }
   ],
   "source": [
    "# 1. How many listings are there with a price less than 100? \n",
    "cheap_listings = df[df[\"price\"] < 100]\n",
    "print(len(cheap_listings))\n",
    "\n"
   ]
  },
  {
   "cell_type": "code",
   "execution_count": 18,
   "metadata": {},
   "outputs": [
    {
     "name": "stdout",
     "output_type": "stream",
     "text": [
      "Brooklyn Listings:  18632\n"
     ]
    }
   ],
   "source": [
    "# 2. Make a new DataFrame of listings in Brooklyn named `df_bk` \n",
    "# and find how many listings in just Brooklyn.\n",
    "df_bk = df[df[\"neighbourhood_group\"] == \"Brooklyn\"]\n",
    "print(\"Brooklyn Listings: \", len(df_bk))\n"
   ]
  },
  {
   "cell_type": "code",
   "execution_count": 17,
   "metadata": {},
   "outputs": [
    {
     "name": "stdout",
     "output_type": "stream",
     "text": [
      "Cheap Brooklyn Listings:  10473\n"
     ]
    }
   ],
   "source": [
    "# 3. Find how many listings there are in Brooklyn with a price less than 100.\n",
    "cheap_bk = df[(df[\"neighbourhood_group\"] == \"Brooklyn\") & (df[\"price\"] < 100)]\n",
    "print(\"Cheap Brooklyn Listings: \", len(cheap_bk))\n",
    "\n"
   ]
  },
  {
   "cell_type": "code",
   "execution_count": 6,
   "metadata": {},
   "outputs": [
    {
     "name": "stdout",
     "output_type": "stream",
     "text": [
      "Total listings with host name Michael, David, John, or Daniel: 1258\n"
     ]
    }
   ],
   "source": [
    "# 4. Using `.isin()` select anyone that has the host name of Michael, David, John, and Daniel.\n",
    "# How many total are there that have those names\n",
    "selected_hosts = df[df[\"host_name\"].isin([\"Michael\", \"David\", \"John\", \"Daniel\"])]\n",
    "print(\"Total listings with host name Michael, David, John, or Daniel:\", len(selected_hosts))\n"
   ]
  },
  {
   "cell_type": "code",
   "execution_count": 8,
   "metadata": {},
   "outputs": [
    {
     "name": "stdout",
     "output_type": "stream",
     "text": [
      "        neighbourhood  price  adjusted_price\n",
      "0             Midtown    175             175\n",
      "1        Clinton Hill     75              75\n",
      "2  Bedford-Stuyvesant     60              60\n",
      "3         Sunset Park    175             175\n",
      "4      Hell's Kitchen     65              65\n",
      "5     Upper West Side     75              75\n",
      "6           Chinatown    140             140\n",
      "7        West Village    160             160\n",
      "8         South Slope     88              88\n",
      "9     Upper West Side     85              85\n"
     ]
    }
   ],
   "source": [
    "# 5. Create a new column called `adjusted_price` that has $100 added to every listing in Williamsburg.  \n",
    "# The prices for all other listings should be the same as the were before. \n",
    "import numpy as np\n",
    "df[\"adjusted_price\"] = np.where(\n",
    "    df[\"neighbourhood\"] == \"Williamsburg\",  # condition\n",
    "    df[\"price\"] + 100,                      # if condition true\n",
    "    df[\"price\"]                             # else\n",
    ")\n",
    "\n",
    "print(df[[\"neighbourhood\", \"price\", \"adjusted_price\"]].head(10))\n"
   ]
  },
  {
   "cell_type": "code",
   "execution_count": 9,
   "metadata": {},
   "outputs": [
    {
     "name": "stdout",
     "output_type": "stream",
     "text": [
      "room_type\n",
      "Entire home/apt    51.578653\n",
      "Private room       45.444581\n",
      "Shared room         2.121349\n",
      "Hotel room          0.855417\n",
      "Name: proportion, dtype: float64\n"
     ]
    }
   ],
   "source": [
    "# 6. What % of the rooms are private, and what % of the rooms are shared.  \n",
    "room_counts = df[\"room_type\"].value_counts(normalize=True) * 100\n",
    "print(room_counts)\n",
    "\n",
    "\n"
   ]
  },
  {
   "cell_type": "markdown",
   "metadata": {},
   "source": [
    "# Exercise 3 - Grouping\n",
    "\n",
    "1. Using `groupby`, count how many listings are in each neighbourhood_group.\n",
    "\n",
    "\n",
    "2. Using `groupby`, find the mean price for each of the neighbourhood_groups. \n",
    "\n",
    "\n",
    "3. Using `groupby` and `.agg()`, find the min and max price for each of the neighbourhood_groups. \n",
    "\n",
    "\n",
    "4. Using `groupby`, find the median price for each room type in each neighbourhood_group.\n",
    "\n",
    "\n",
    "5. Using `groupby` and `.agg()`, find the count, min, max, mean, median, and std of the prices for each room type in each neighbourhood_group."
   ]
  },
  {
   "cell_type": "code",
   "execution_count": 10,
   "metadata": {},
   "outputs": [
    {
     "name": "stdout",
     "output_type": "stream",
     "text": [
      "neighbourhood_group\n",
      "Bronx             1183\n",
      "Brooklyn         18632\n",
      "Manhattan        20580\n",
      "Queens            5791\n",
      "Staten Island      341\n",
      "dtype: int64\n"
     ]
    }
   ],
   "source": [
    "# 1. Using `groupby`, count how many listings are in each neighbourhood_group.\n",
    "counts = df.groupby(\"neighbourhood_group\").size()\n",
    "print(counts)\n",
    "\n"
   ]
  },
  {
   "cell_type": "code",
   "execution_count": 11,
   "metadata": {},
   "outputs": [
    {
     "name": "stdout",
     "output_type": "stream",
     "text": [
      "neighbourhood_group\n",
      "Bronx             92.751479\n",
      "Brooklyn         120.225258\n",
      "Manhattan        191.880466\n",
      "Queens            99.754965\n",
      "Staten Island    110.947214\n",
      "Name: price, dtype: float64\n"
     ]
    }
   ],
   "source": [
    "# 2. Using `groupby`, find the mean price for each of the neighbourhood_groups. \n",
    "mean_prices = df.groupby(\"neighbourhood_group\")[\"price\"].mean()\n",
    "print(mean_prices)\n",
    "\n"
   ]
  },
  {
   "cell_type": "code",
   "execution_count": 12,
   "metadata": {},
   "outputs": [
    {
     "name": "stdout",
     "output_type": "stream",
     "text": [
      "room_type\n",
      "Entire home/apt    199.395950\n",
      "Hotel room         275.015075\n",
      "Private room        91.453084\n",
      "Shared room         87.063830\n",
      "Name: price, dtype: float64\n"
     ]
    }
   ],
   "source": [
    "# 2.5. Using `groupby`, find the mean price for each room_type. \n",
    "mean_prices_by_room = df.groupby(\"room_type\")[\"price\"].mean()\n",
    "print(mean_prices_by_room)"
   ]
  },
  {
   "cell_type": "code",
   "execution_count": 13,
   "metadata": {},
   "outputs": [
    {
     "name": "stdout",
     "output_type": "stream",
     "text": [
      "                     min    max\n",
      "neighbourhood_group            \n",
      "Bronx                 16   1404\n",
      "Brooklyn               0  10000\n",
      "Manhattan              0  10000\n",
      "Queens                 0  10000\n",
      "Staten Island         19   1200\n"
     ]
    }
   ],
   "source": [
    "# 3. Using `groupby` and `.agg()`, find the min and max price for each of the neighbourhood_groups. \n",
    "price_range = df.groupby(\"neighbourhood_group\")[\"price\"].agg([\"min\", \"max\"])\n",
    "print(price_range)\n"
   ]
  },
  {
   "cell_type": "code",
   "execution_count": 14,
   "metadata": {},
   "outputs": [
    {
     "name": "stdout",
     "output_type": "stream",
     "text": [
      "neighbourhood_group  room_type      \n",
      "Bronx                Entire home/apt    138.004819\n",
      "                     Private room        68.419668\n",
      "                     Shared room         66.391304\n",
      "Brooklyn             Entire home/apt    171.587687\n",
      "                     Hotel room         147.300000\n",
      "                     Private room        71.291189\n",
      "                     Shared room         57.870091\n",
      "Manhattan            Entire home/apt    231.335572\n",
      "                     Hotel room         292.515670\n",
      "                     Private room       128.277069\n",
      "                     Shared room        111.735084\n",
      "Queens               Entire home/apt    150.168900\n",
      "                     Hotel room         139.058824\n",
      "                     Private room        69.972564\n",
      "                     Shared room         89.891892\n",
      "Staten Island        Entire home/apt    151.720930\n",
      "                     Private room        70.312883\n",
      "                     Shared room         46.000000\n",
      "Name: price, dtype: float64\n"
     ]
    }
   ],
   "source": [
    "# 4. Using `groupby`, find the mean price for each room_type in each neighbourhood_group.\n",
    "mean_prices = df.groupby([\"neighbourhood_group\", \"room_type\"])[\"price\"].mean()\n",
    "print(mean_prices)"
   ]
  },
  {
   "cell_type": "code",
   "execution_count": 15,
   "metadata": {},
   "outputs": [
    {
     "name": "stdout",
     "output_type": "stream",
     "text": [
      "                                     count  min    max        mean  median  \\\n",
      "neighbourhood_group room_type                                                \n",
      "Bronx               Entire home/apt    415   25   1404  138.004819   103.0   \n",
      "                    Private room       722   16    700   68.419668    55.0   \n",
      "                    Shared room         46   20    800   66.391304    44.0   \n",
      "Brooklyn            Entire home/apt   9112   20  10000  171.587687   135.0   \n",
      "                    Hotel room          30    0    399  147.300000   129.0   \n",
      "                    Private room      9159   10   2500   71.291189    60.0   \n",
      "                    Shared room        331   15   1500   57.870091    36.0   \n",
      "Manhattan           Entire home/apt  12209    0  10000  231.335572   165.0   \n",
      "                    Hotel room         351    0   2211  292.515670   210.0   \n",
      "                    Private room      7601   10  10000  128.277069    80.0   \n",
      "                    Shared room        419   10  10000  111.735084    60.0   \n",
      "Queens              Entire home/apt   2090   10  10000  150.168900   115.0   \n",
      "                    Hotel room          17    0    249  139.058824   149.0   \n",
      "                    Private room      3499   18   9000   69.972564    55.0   \n",
      "                    Shared room        185   14   3000   89.891892    40.0   \n",
      "Staten Island       Entire home/apt    172   39   1200  151.720930   111.0   \n",
      "                    Private room       163   20    800   70.312883    55.0   \n",
      "                    Shared room          6   19     82   46.000000    38.0   \n",
      "\n",
      "                                            std  \n",
      "neighbourhood_group room_type                    \n",
      "Bronx               Entire home/apt  126.032106  \n",
      "                    Private room      57.337866  \n",
      "                    Shared room      114.442703  \n",
      "Brooklyn            Entire home/apt  236.732843  \n",
      "                    Hotel room        91.153206  \n",
      "                    Private room      69.023165  \n",
      "                    Shared room       92.217618  \n",
      "Manhattan           Entire home/apt  410.306439  \n",
      "                    Hotel room       315.924085  \n",
      "                    Private room     448.677306  \n",
      "                    Shared room      502.728868  \n",
      "Queens              Entire home/apt  252.606739  \n",
      "                    Hotel room        50.743806  \n",
      "                    Private room     163.814468  \n",
      "                    Shared room      275.675158  \n",
      "Staten Island       Entire home/apt  147.518392  \n",
      "                    Private room      70.759593  \n",
      "                    Shared room       28.446441  \n"
     ]
    }
   ],
   "source": [
    "# 5. Using `groupby` and `.agg()`, find the count, min, max, mean, median, and std of the prices \n",
    "# for each room type in each neighbourhood_group.\n",
    "stats = df.groupby([\"neighbourhood_group\", \"room_type\"])[\"price\"].agg(\n",
    "    [\"count\", \"min\", \"max\", \"mean\", \"median\", \"std\"]\n",
    ")\n",
    "print(stats)\n"
   ]
  },
  {
   "cell_type": "markdown",
   "metadata": {},
   "source": [
    "# Load, Merge, and Export files.\n",
    "1. Load the `prices.csv` and the `n_listings.csv`\n",
    "    * Having an error..? Inspect the actual csv file if you're having trouble\n",
    "\n",
    "2. Do join that keeps all the records for each table.\n",
    "    * Neighbourhood groups should include ['Bronx', 'Brooklyn', 'Manhattan', 'Queens', 'Staten Island',\n",
    "       'LongIsland']\n",
    "\n",
    "       \n",
    "3. Save your joined csv as `joined.csv` into the data folder. \n",
    "\n",
    "\n",
    "4. Load your saved table and see if it looks the same or different that the DataFrame you used to create it. "
   ]
  },
  {
   "cell_type": "code",
   "execution_count": 23,
   "metadata": {},
   "outputs": [
    {
     "name": "stdout",
     "output_type": "stream",
     "text": [
      "  neighbourhood_group   mean_price\n",
      "0               Bronx    92.751479\n",
      "1            Brooklyn   120.225258\n",
      "2           Manhattan   191.880466\n",
      "3              Queens    99.754965\n",
      "4       Staten Island   110.947214\n",
      "  neighbourhood_group;n_listings\n",
      "0                     Bronx;1183\n",
      "1                 Brooklyn;18632\n",
      "2                Manhattan;20580\n",
      "3                LongIsland;4121\n"
     ]
    }
   ],
   "source": [
    "# 1. Load the `prices.csv` and the `n_listings.csv`\n",
    "prices = pd.read_csv(\"/workspaces/ds-fall-2025-fri-0630/Week-01-Pandas/data/prices.csv\")\n",
    "n_listings = pd.read_csv(\"/workspaces/ds-fall-2025-fri-0630/Week-01-Pandas/data/n_listings.csv\")\n",
    "\n",
    "print(prices)\n",
    "print(n_listings)"
   ]
  },
  {
   "cell_type": "code",
   "execution_count": null,
   "metadata": {},
   "outputs": [
    {
     "name": "stdout",
     "output_type": "stream",
     "text": [
      "  neighbourhood_group  n_listings\n",
      "0               Bronx        1183\n",
      "1            Brooklyn       18632\n",
      "2           Manhattan       20580\n",
      "3          LongIsland        4121\n",
      "Index(['neighbourhood_group', 'n_listings'], dtype='object')\n"
     ]
    }
   ],
   "source": [
    "# 2. Do join that keeps all the records for each table.\n",
    "n_listings = pd.read_csv(\"/workspaces/ds-fall-2025-fri-0630/Week-01-Pandas/data/n_listings.csv\", sep=\";\")\n",
    "print(n_listings.head())\n",
    "print(n_listings.columns)\n",
    "merged = pd.merge(prices, n_listings, how=\"outer\", on=\"neighbourhood_group\")\n",
    "print(merged)"
   ]
  },
  {
   "cell_type": "code",
   "execution_count": 33,
   "metadata": {},
   "outputs": [
    {
     "name": "stdout",
     "output_type": "stream",
     "text": [
      "✅ joined.csv saved in data folder\n"
     ]
    }
   ],
   "source": [
    "# 3. Save your joined csv as `joined.csv` into the data folder. \n",
    "merged.to_csv(\"/workspaces/ds-fall-2025-fri-0630/Week-01-Pandas/data/joined.csv\", index=False)\n",
    "print(\"✅ joined.csv saved in data folder\")\n"
   ]
  },
  {
   "cell_type": "code",
   "execution_count": 34,
   "metadata": {},
   "outputs": [
    {
     "name": "stdout",
     "output_type": "stream",
     "text": [
      "  neighbourhood_group  mean_price  n_listings\n",
      "0               Bronx   92.751479      1183.0\n",
      "1            Brooklyn  120.225258     18632.0\n",
      "2          LongIsland         NaN      4121.0\n",
      "3           Manhattan  191.880466     20580.0\n",
      "4              Queens   99.754965         NaN\n",
      "(6, 3)\n"
     ]
    }
   ],
   "source": [
    "# 4. Load your newly saved file, see if it looks the same.  If not, try saving with argument `index=False`\n",
    "joined = pd.read_csv(\"/workspaces/ds-fall-2025-fri-0630/Week-01-Pandas/data/joined.csv\")\n",
    "print(joined.head())\n",
    "print(joined.shape)"
   ]
  },
  {
   "cell_type": "markdown",
   "metadata": {},
   "source": [
    "# Extra Credit\n",
    "Every question below this cell is extra credit and optional."
   ]
  },
  {
   "cell_type": "markdown",
   "metadata": {},
   "source": [
    "### 1. (Easy) Explore this new PandasAI Package and tell me what its all about because I've never used it. \n",
    "* https://www.youtube.com/watch?v=5w6eZaoDVVk&ab_channel=CodingIsFun  \n",
    "* See if you can use it on the listings.csv to find out some cool info. or answer some of the questions above. "
   ]
  },
  {
   "cell_type": "markdown",
   "metadata": {},
   "source": [
    "### 2. (Very Easy) Find other cool Panda packages / add ons and show us what they can do well. And how you installed them. "
   ]
  },
  {
   "cell_type": "markdown",
   "metadata": {},
   "source": [
    "### 3. (Medium) Use the grammys.csv data for the next section of questions.\n",
    "\n",
    "1. Who was won Album of the Year in 2016?\n",
    "\n",
    "\n",
    "2. Who won Best Rap Album in 2009?\n",
    "\n",
    "\n",
    "3. How many awards was Kendrick Lamar nomiated for, and how many did he win...?"
   ]
  },
  {
   "cell_type": "markdown",
   "metadata": {},
   "source": [
    "### (Hard) Load the Game Logs for 2022 and add the column names using a dictionary.  \n",
    "* [Link to the data page](https://www.retrosheet.org/gamelogs/)\n",
    "* [Link to the column names](https://procatinator.com/)\n",
    "* haha, gotta find them yourself!"
   ]
  },
  {
   "cell_type": "markdown",
   "metadata": {},
   "source": [
    "### (Extra Hard) Download the files for the past 5 years into a new folder and add them all into one data frame using pandas, then save that new file.\n",
    "* Try to not hard code in the file names. We want to do this programmatically because what if we want to add new/more file names in the future."
   ]
  },
  {
   "cell_type": "code",
   "execution_count": null,
   "metadata": {},
   "outputs": [],
   "source": []
  }
 ],
 "metadata": {
  "kernelspec": {
   "display_name": "Python 3",
   "language": "python",
   "name": "python3"
  },
  "language_info": {
   "codemirror_mode": {
    "name": "ipython",
    "version": 3
   },
   "file_extension": ".py",
   "mimetype": "text/x-python",
   "name": "python",
   "nbconvert_exporter": "python",
   "pygments_lexer": "ipython3",
   "version": "3.12.1"
  }
 },
 "nbformat": 4,
 "nbformat_minor": 4
}
