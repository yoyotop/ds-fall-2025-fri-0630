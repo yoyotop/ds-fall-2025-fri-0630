{
 "cells": [
  {
   "cell_type": "markdown",
   "metadata": {},
   "source": [
    "# First print your name in the cell below then save this file. (or something nice about your instructor)"
   ]
  },
  {
   "cell_type": "code",
   "execution_count": 1,
   "metadata": {},
   "outputs": [
    {
     "name": "stdout",
     "output_type": "stream",
     "text": [
      "Sairun Alam\n",
      "My instructor and TA are awesome! :D\n"
     ]
    }
   ],
   "source": [
    "# In this cell print your name \n",
    "print(\"Sairun Alam\")\n",
    "print(\"My instructor and TA are awesome! :D\")\n",
    "\n"
   ]
  },
  {
   "cell_type": "markdown",
   "metadata": {},
   "source": [
    "# Data wrangling with Pandas exercise\n",
    "* For this exercise we will be using the `listings.csv` data file."
   ]
  },
  {
   "cell_type": "code",
   "execution_count": 2,
   "metadata": {},
   "outputs": [],
   "source": [
    "import pandas as pd\n",
    "import numpy as np"
   ]
  },
  {
   "cell_type": "markdown",
   "metadata": {},
   "source": [
    "# Load in the data file using `pd.read_csv()`"
   ]
  },
  {
   "cell_type": "code",
   "execution_count": 3,
   "metadata": {},
   "outputs": [
    {
     "data": {
      "text/html": [
       "<div>\n",
       "<style scoped>\n",
       "    .dataframe tbody tr th:only-of-type {\n",
       "        vertical-align: middle;\n",
       "    }\n",
       "\n",
       "    .dataframe tbody tr th {\n",
       "        vertical-align: top;\n",
       "    }\n",
       "\n",
       "    .dataframe thead th {\n",
       "        text-align: right;\n",
       "    }\n",
       "</style>\n",
       "<table border=\"1\" class=\"dataframe\">\n",
       "  <thead>\n",
       "    <tr style=\"text-align: right;\">\n",
       "      <th></th>\n",
       "      <th>id</th>\n",
       "      <th>name</th>\n",
       "      <th>host_id</th>\n",
       "      <th>host_name</th>\n",
       "      <th>neighbourhood_group</th>\n",
       "      <th>neighbourhood</th>\n",
       "      <th>latitude</th>\n",
       "      <th>longitude</th>\n",
       "      <th>room_type</th>\n",
       "      <th>price</th>\n",
       "      <th>minimum_nights</th>\n",
       "      <th>number_of_reviews</th>\n",
       "      <th>last_review</th>\n",
       "      <th>reviews_per_month</th>\n",
       "      <th>calculated_host_listings_count</th>\n",
       "      <th>availability_365</th>\n",
       "    </tr>\n",
       "  </thead>\n",
       "  <tbody>\n",
       "    <tr>\n",
       "      <th>0</th>\n",
       "      <td>2595</td>\n",
       "      <td>Skylit Midtown Castle</td>\n",
       "      <td>2845</td>\n",
       "      <td>Jennifer</td>\n",
       "      <td>Manhattan</td>\n",
       "      <td>Midtown</td>\n",
       "      <td>40.75362</td>\n",
       "      <td>-73.98377</td>\n",
       "      <td>Entire home/apt</td>\n",
       "      <td>175</td>\n",
       "      <td>3</td>\n",
       "      <td>48</td>\n",
       "      <td>2019-11-04</td>\n",
       "      <td>0.37</td>\n",
       "      <td>2</td>\n",
       "      <td>365</td>\n",
       "    </tr>\n",
       "    <tr>\n",
       "      <th>1</th>\n",
       "      <td>3831</td>\n",
       "      <td>Whole flr w/private bdrm, bath &amp; kitchen(pls r...</td>\n",
       "      <td>4869</td>\n",
       "      <td>LisaRoxanne</td>\n",
       "      <td>Brooklyn</td>\n",
       "      <td>Clinton Hill</td>\n",
       "      <td>40.68514</td>\n",
       "      <td>-73.95976</td>\n",
       "      <td>Entire home/apt</td>\n",
       "      <td>75</td>\n",
       "      <td>1</td>\n",
       "      <td>340</td>\n",
       "      <td>2020-08-01</td>\n",
       "      <td>4.75</td>\n",
       "      <td>1</td>\n",
       "      <td>265</td>\n",
       "    </tr>\n",
       "    <tr>\n",
       "      <th>2</th>\n",
       "      <td>5121</td>\n",
       "      <td>BlissArtsSpace!</td>\n",
       "      <td>7356</td>\n",
       "      <td>Garon</td>\n",
       "      <td>Brooklyn</td>\n",
       "      <td>Bedford-Stuyvesant</td>\n",
       "      <td>40.68688</td>\n",
       "      <td>-73.95596</td>\n",
       "      <td>Private room</td>\n",
       "      <td>60</td>\n",
       "      <td>29</td>\n",
       "      <td>50</td>\n",
       "      <td>2019-12-02</td>\n",
       "      <td>0.37</td>\n",
       "      <td>1</td>\n",
       "      <td>365</td>\n",
       "    </tr>\n",
       "    <tr>\n",
       "      <th>3</th>\n",
       "      <td>5136</td>\n",
       "      <td>Spacious Brooklyn Duplex, Patio + Garden</td>\n",
       "      <td>7378</td>\n",
       "      <td>Rebecca</td>\n",
       "      <td>Brooklyn</td>\n",
       "      <td>Sunset Park</td>\n",
       "      <td>40.66120</td>\n",
       "      <td>-73.99423</td>\n",
       "      <td>Entire home/apt</td>\n",
       "      <td>175</td>\n",
       "      <td>14</td>\n",
       "      <td>1</td>\n",
       "      <td>2014-01-02</td>\n",
       "      <td>0.01</td>\n",
       "      <td>1</td>\n",
       "      <td>295</td>\n",
       "    </tr>\n",
       "    <tr>\n",
       "      <th>4</th>\n",
       "      <td>5178</td>\n",
       "      <td>Large Furnished Room Near B'way</td>\n",
       "      <td>8967</td>\n",
       "      <td>Shunichi</td>\n",
       "      <td>Manhattan</td>\n",
       "      <td>Hell's Kitchen</td>\n",
       "      <td>40.76489</td>\n",
       "      <td>-73.98493</td>\n",
       "      <td>Private room</td>\n",
       "      <td>65</td>\n",
       "      <td>2</td>\n",
       "      <td>473</td>\n",
       "      <td>2020-03-15</td>\n",
       "      <td>3.44</td>\n",
       "      <td>1</td>\n",
       "      <td>340</td>\n",
       "    </tr>\n",
       "  </tbody>\n",
       "</table>\n",
       "</div>"
      ],
      "text/plain": [
       "     id                                               name  host_id  \\\n",
       "0  2595                              Skylit Midtown Castle     2845   \n",
       "1  3831  Whole flr w/private bdrm, bath & kitchen(pls r...     4869   \n",
       "2  5121                                    BlissArtsSpace!     7356   \n",
       "3  5136           Spacious Brooklyn Duplex, Patio + Garden     7378   \n",
       "4  5178                   Large Furnished Room Near B'way　     8967   \n",
       "\n",
       "     host_name neighbourhood_group       neighbourhood  latitude  longitude  \\\n",
       "0     Jennifer           Manhattan             Midtown  40.75362  -73.98377   \n",
       "1  LisaRoxanne            Brooklyn        Clinton Hill  40.68514  -73.95976   \n",
       "2        Garon            Brooklyn  Bedford-Stuyvesant  40.68688  -73.95596   \n",
       "3      Rebecca            Brooklyn         Sunset Park  40.66120  -73.99423   \n",
       "4     Shunichi           Manhattan      Hell's Kitchen  40.76489  -73.98493   \n",
       "\n",
       "         room_type  price  minimum_nights  number_of_reviews last_review  \\\n",
       "0  Entire home/apt    175               3                 48  2019-11-04   \n",
       "1  Entire home/apt     75               1                340  2020-08-01   \n",
       "2     Private room     60              29                 50  2019-12-02   \n",
       "3  Entire home/apt    175              14                  1  2014-01-02   \n",
       "4     Private room     65               2                473  2020-03-15   \n",
       "\n",
       "   reviews_per_month  calculated_host_listings_count  availability_365  \n",
       "0               0.37                               2               365  \n",
       "1               4.75                               1               265  \n",
       "2               0.37                               1               365  \n",
       "3               0.01                               1               295  \n",
       "4               3.44                               1               340  "
      ]
     },
     "execution_count": 3,
     "metadata": {},
     "output_type": "execute_result"
    }
   ],
   "source": [
    "# Load data here\n",
    "df = pd.read_csv('/workspaces/ds-fall-2025-fri-0630/Week-01-Pandas/data/listings.csv')\n",
    "df.head()\n",
    "\n",
    "#it was not working unless i copied path directly from listings"
   ]
  },
  {
   "cell_type": "markdown",
   "metadata": {},
   "source": [
    "## Exercise 2 - Filtering\n",
    "\n",
    "Return the following subsets of the dataframe.\n",
    "\n",
    "1. How many listings are there with a price less than 100? \n",
    "\n",
    "\n",
    "2. Find how many listings there are in just Brooklyn.\n",
    "\n",
    "\n",
    "3. Find how many listings there are in Brooklyn with a price less than 100.\n",
    "\n",
    "\n",
    "4. Using `.isin()` select anyone that has the host name of Michael, David, John, and Daniel.\n",
    "\n",
    "\n",
    "5. Create a new column called `adjusted_price` that has $100 added to every listing in Williamsburg.  The prices for all other listings should be the same as the were before. \n",
    "\n",
    "\n",
    "6. What % of the rooms are private, and what % of the rooms are shared.  \n",
    "    * Hint, use `.value_counts()`\n"
   ]
  },
  {
   "cell_type": "code",
   "execution_count": 4,
   "metadata": {},
   "outputs": [
    {
     "name": "stdout",
     "output_type": "stream",
     "text": [
      "22778\n"
     ]
    }
   ],
   "source": [
    "# 1. How many listings are there with a price less than 100? \n",
    "condition1 = df['price'] < 100\n",
    "lowprice = df[condition1]\n",
    "print(len(lowprice))"
   ]
  },
  {
   "cell_type": "code",
   "execution_count": 5,
   "metadata": {},
   "outputs": [
    {
     "name": "stdout",
     "output_type": "stream",
     "text": [
      "18632\n"
     ]
    }
   ],
   "source": [
    "# 2. Make a new DataFrame of listings in Brooklyn named `df_bk` \n",
    "# and find how many listings in just Brooklyn.\n",
    "condition2 = df['neighbourhood_group'] == 'Brooklyn'\n",
    "df_bk = df[condition2]\n",
    "print(len(df_bk))\n"
   ]
  },
  {
   "cell_type": "code",
   "execution_count": 6,
   "metadata": {},
   "outputs": [
    {
     "name": "stdout",
     "output_type": "stream",
     "text": [
      "10473\n"
     ]
    }
   ],
   "source": [
    "# 3. Find how many listings there are in Brooklyn with a price less than 100.\n",
    "\n",
    "bk_low = df[condition1 & condition2]\n",
    "#bk_low.head()\n",
    "print(len(bk_low))\n"
   ]
  },
  {
   "cell_type": "code",
   "execution_count": 7,
   "metadata": {},
   "outputs": [
    {
     "name": "stdout",
     "output_type": "stream",
     "text": [
      "1258\n"
     ]
    }
   ],
   "source": [
    "# 4. Using `.isin()` select anyone that has the host name of Michael, David, John, and Daniel.\n",
    "# How many total are there that have those names\n",
    "\n",
    "condition3 = df['host_name'].isin(['Michael', 'David', 'John', 'Daniel'])\n",
    "hosts = df[condition3]\n",
    "print(len(hosts))\n"
   ]
  },
  {
   "cell_type": "code",
   "execution_count": 8,
   "metadata": {},
   "outputs": [
    {
     "name": "stdout",
     "output_type": "stream",
     "text": [
      "   neighbourhood  price  adjusted_price\n",
      "11  Williamsburg    109             209\n",
      "15  Williamsburg    299             399\n",
      "35  Williamsburg    131             231\n",
      "38  Williamsburg    175             275\n",
      "42  Williamsburg     80             180\n"
     ]
    }
   ],
   "source": [
    "# 5. Create a new column called `adjusted_price` that has $100 added to every listing in Williamsburg.  \n",
    "# The prices for all other listings should be the same as the were before. \n",
    "\n",
    "df['adjusted_price']= df['price'] + (df['neighbourhood'] == 'Williamsburg') * 100\n",
    "wbscheck = df[df['neighbourhood'] == 'Williamsburg'].head()\n",
    "print(wbscheck[['neighbourhood', 'price', 'adjusted_price']])"
   ]
  },
  {
   "cell_type": "code",
   "execution_count": 9,
   "metadata": {},
   "outputs": [
    {
     "name": "stdout",
     "output_type": "stream",
     "text": [
      "45.444580566122895 %\n",
      "2.12134889419047 %\n"
     ]
    }
   ],
   "source": [
    "# 6. What % of the rooms are private, and what % of the rooms are shared.  \n",
    "rooms = df['room_type'].value_counts()\n",
    "room_total = len(df)\n",
    "\n",
    "private = (rooms.get('Private room', 0) / room_total) * 100\n",
    "print(private, '%')\n",
    "shared = (rooms.get('Shared room', 0) / room_total) * 100\n",
    "print(shared, '%')\n",
    "\n"
   ]
  },
  {
   "cell_type": "markdown",
   "metadata": {},
   "source": [
    "# Exercise 3 - Grouping\n",
    "\n",
    "1. Using `groupby`, count how many listings are in each neighbourhood_group.\n",
    "\n",
    "\n",
    "2. Using `groupby`, find the mean price for each of the neighbourhood_groups. \n",
    "\n",
    "\n",
    "3. Using `groupby` and `.agg()`, find the min and max price for each of the neighbourhood_groups. \n",
    "\n",
    "\n",
    "4. Using `groupby`, find the median price for each room type in each neighbourhood_group.\n",
    "\n",
    "\n",
    "5. Using `groupby` and `.agg()`, find the count, min, max, mean, median, and std of the prices for each room type in each neighbourhood_group."
   ]
  },
  {
   "cell_type": "code",
   "execution_count": 10,
   "metadata": {},
   "outputs": [
    {
     "data": {
      "text/plain": [
       "neighbourhood_group\n",
       "Bronx             1183\n",
       "Brooklyn         18632\n",
       "Manhattan        20580\n",
       "Queens            5791\n",
       "Staten Island      341\n",
       "dtype: int64"
      ]
     },
     "execution_count": 10,
     "metadata": {},
     "output_type": "execute_result"
    }
   ],
   "source": [
    "# 1. Using `groupby`, count how many listings are in each neighbourhood_group.\n",
    "group_by_listing = df.groupby('neighbourhood_group').size()\n",
    "group_by_listing\n",
    "\n"
   ]
  },
  {
   "cell_type": "code",
   "execution_count": 11,
   "metadata": {},
   "outputs": [
    {
     "data": {
      "text/plain": [
       "neighbourhood_group\n",
       "Bronx             92.751479\n",
       "Brooklyn         120.225258\n",
       "Manhattan        191.880466\n",
       "Queens            99.754965\n",
       "Staten Island    110.947214\n",
       "Name: price, dtype: float64"
      ]
     },
     "execution_count": 11,
     "metadata": {},
     "output_type": "execute_result"
    }
   ],
   "source": [
    "# 2. Using `groupby`, find the mean price for each of the neighbourhood_groups. \n",
    "gb = df.groupby('neighbourhood_group')\n",
    "#print(gb)\n",
    "\n",
    "gb['price'].mean()\n",
    "\n"
   ]
  },
  {
   "cell_type": "code",
   "execution_count": 12,
   "metadata": {},
   "outputs": [
    {
     "data": {
      "text/plain": [
       "room_type\n",
       "Entire home/apt    199.395950\n",
       "Hotel room         275.015075\n",
       "Private room        91.453084\n",
       "Shared room         87.063830\n",
       "Name: price, dtype: float64"
      ]
     },
     "execution_count": 12,
     "metadata": {},
     "output_type": "execute_result"
    }
   ],
   "source": [
    "# 2.5. Using `groupby`, find the mean price for each room_type. \n",
    "gb_room = df.groupby('room_type')\n",
    "gb_room['price'].mean()\n"
   ]
  },
  {
   "cell_type": "code",
   "execution_count": 13,
   "metadata": {},
   "outputs": [
    {
     "data": {
      "text/html": [
       "<div>\n",
       "<style scoped>\n",
       "    .dataframe tbody tr th:only-of-type {\n",
       "        vertical-align: middle;\n",
       "    }\n",
       "\n",
       "    .dataframe tbody tr th {\n",
       "        vertical-align: top;\n",
       "    }\n",
       "\n",
       "    .dataframe thead th {\n",
       "        text-align: right;\n",
       "    }\n",
       "</style>\n",
       "<table border=\"1\" class=\"dataframe\">\n",
       "  <thead>\n",
       "    <tr style=\"text-align: right;\">\n",
       "      <th></th>\n",
       "      <th>min</th>\n",
       "    </tr>\n",
       "    <tr>\n",
       "      <th>neighbourhood_group</th>\n",
       "      <th></th>\n",
       "    </tr>\n",
       "  </thead>\n",
       "  <tbody>\n",
       "    <tr>\n",
       "      <th>Bronx</th>\n",
       "      <td>16</td>\n",
       "    </tr>\n",
       "    <tr>\n",
       "      <th>Brooklyn</th>\n",
       "      <td>0</td>\n",
       "    </tr>\n",
       "    <tr>\n",
       "      <th>Manhattan</th>\n",
       "      <td>0</td>\n",
       "    </tr>\n",
       "    <tr>\n",
       "      <th>Queens</th>\n",
       "      <td>0</td>\n",
       "    </tr>\n",
       "    <tr>\n",
       "      <th>Staten Island</th>\n",
       "      <td>19</td>\n",
       "    </tr>\n",
       "  </tbody>\n",
       "</table>\n",
       "</div>"
      ],
      "text/plain": [
       "                     min\n",
       "neighbourhood_group     \n",
       "Bronx                 16\n",
       "Brooklyn               0\n",
       "Manhattan              0\n",
       "Queens                 0\n",
       "Staten Island         19"
      ]
     },
     "execution_count": 13,
     "metadata": {},
     "output_type": "execute_result"
    }
   ],
   "source": [
    "# 3. Using `groupby` and `.agg()`, find the min and max price for each of the neighbourhood_groups. \n",
    "\n",
    "gb = df.groupby('neighbourhood_group')\n",
    "#gb['price'].describe()\n",
    "gb['price'].agg(['min'],['max'])\n",
    "\n"
   ]
  },
  {
   "cell_type": "code",
   "execution_count": 14,
   "metadata": {},
   "outputs": [
    {
     "data": {
      "text/plain": [
       "neighbourhood_group  room_type      \n",
       "Bronx                Entire home/apt    138.004819\n",
       "                     Private room        68.419668\n",
       "                     Shared room         66.391304\n",
       "Brooklyn             Entire home/apt    171.587687\n",
       "                     Hotel room         147.300000\n",
       "                     Private room        71.291189\n",
       "                     Shared room         57.870091\n",
       "Manhattan            Entire home/apt    231.335572\n",
       "                     Hotel room         292.515670\n",
       "                     Private room       128.277069\n",
       "                     Shared room        111.735084\n",
       "Queens               Entire home/apt    150.168900\n",
       "                     Hotel room         139.058824\n",
       "                     Private room        69.972564\n",
       "                     Shared room         89.891892\n",
       "Staten Island        Entire home/apt    151.720930\n",
       "                     Private room        70.312883\n",
       "                     Shared room         46.000000\n",
       "Name: price, dtype: float64"
      ]
     },
     "execution_count": 14,
     "metadata": {},
     "output_type": "execute_result"
    }
   ],
   "source": [
    "# 4. Using `groupby`, find the mean price for each room_type in each neighbourhood_group.\n",
    "gb_nroom = df.groupby(['neighbourhood_group', 'room_type'])\n",
    "meanprice = gb_nroom['price'].mean()\n",
    "meanprice\n"
   ]
  },
  {
   "cell_type": "code",
   "execution_count": 15,
   "metadata": {},
   "outputs": [
    {
     "data": {
      "text/html": [
       "<div>\n",
       "<style scoped>\n",
       "    .dataframe tbody tr th:only-of-type {\n",
       "        vertical-align: middle;\n",
       "    }\n",
       "\n",
       "    .dataframe tbody tr th {\n",
       "        vertical-align: top;\n",
       "    }\n",
       "\n",
       "    .dataframe thead th {\n",
       "        text-align: right;\n",
       "    }\n",
       "</style>\n",
       "<table border=\"1\" class=\"dataframe\">\n",
       "  <thead>\n",
       "    <tr style=\"text-align: right;\">\n",
       "      <th></th>\n",
       "      <th>count</th>\n",
       "      <th>min</th>\n",
       "      <th>max</th>\n",
       "      <th>mean</th>\n",
       "      <th>median</th>\n",
       "      <th>std</th>\n",
       "    </tr>\n",
       "    <tr>\n",
       "      <th>neighbourhood_group</th>\n",
       "      <th></th>\n",
       "      <th></th>\n",
       "      <th></th>\n",
       "      <th></th>\n",
       "      <th></th>\n",
       "      <th></th>\n",
       "    </tr>\n",
       "  </thead>\n",
       "  <tbody>\n",
       "    <tr>\n",
       "      <th>Bronx</th>\n",
       "      <td>1183</td>\n",
       "      <td>16</td>\n",
       "      <td>1404</td>\n",
       "      <td>92.751479</td>\n",
       "      <td>69.0</td>\n",
       "      <td>95.787081</td>\n",
       "    </tr>\n",
       "    <tr>\n",
       "      <th>Brooklyn</th>\n",
       "      <td>18632</td>\n",
       "      <td>0</td>\n",
       "      <td>10000</td>\n",
       "      <td>120.225258</td>\n",
       "      <td>90.0</td>\n",
       "      <td>180.136376</td>\n",
       "    </tr>\n",
       "    <tr>\n",
       "      <th>Manhattan</th>\n",
       "      <td>20580</td>\n",
       "      <td>0</td>\n",
       "      <td>10000</td>\n",
       "      <td>191.880466</td>\n",
       "      <td>129.0</td>\n",
       "      <td>428.682578</td>\n",
       "    </tr>\n",
       "    <tr>\n",
       "      <th>Queens</th>\n",
       "      <td>5791</td>\n",
       "      <td>0</td>\n",
       "      <td>10000</td>\n",
       "      <td>99.754965</td>\n",
       "      <td>70.0</td>\n",
       "      <td>207.648739</td>\n",
       "    </tr>\n",
       "    <tr>\n",
       "      <th>Staten Island</th>\n",
       "      <td>341</td>\n",
       "      <td>19</td>\n",
       "      <td>1200</td>\n",
       "      <td>110.947214</td>\n",
       "      <td>79.0</td>\n",
       "      <td>122.676152</td>\n",
       "    </tr>\n",
       "  </tbody>\n",
       "</table>\n",
       "</div>"
      ],
      "text/plain": [
       "                     count  min    max        mean  median         std\n",
       "neighbourhood_group                                                   \n",
       "Bronx                 1183   16   1404   92.751479    69.0   95.787081\n",
       "Brooklyn             18632    0  10000  120.225258    90.0  180.136376\n",
       "Manhattan            20580    0  10000  191.880466   129.0  428.682578\n",
       "Queens                5791    0  10000   99.754965    70.0  207.648739\n",
       "Staten Island          341   19   1200  110.947214    79.0  122.676152"
      ]
     },
     "execution_count": 15,
     "metadata": {},
     "output_type": "execute_result"
    }
   ],
   "source": [
    "# 5. Using `groupby` and `.agg()`, find the count, min, max, mean, median, and std of the prices \n",
    "# for each room type in each neighbourhood_group.\n",
    "gb = df.groupby('neighbourhood_group')\n",
    "gb['price'].agg( ['count', 'min', 'max', 'mean', 'median', 'std'] )\n",
    "\n"
   ]
  },
  {
   "cell_type": "markdown",
   "metadata": {},
   "source": [
    "# Load, Merge, and Export files.\n",
    "1. Load the `prices.csv` and the `n_listings.csv`\n",
    "    * Having an error..? Inspect the actual csv file if you're having trouble\n",
    "\n",
    "2. Do join that keeps all the records for each table.\n",
    "    * Neighbourhood groups should include ['Bronx', 'Brooklyn', 'Manhattan', 'Queens', 'Staten Island',\n",
    "       'LongIsland']\n",
    "\n",
    "       \n",
    "3. Save your joined csv as `joined.csv` into the data folder. \n",
    "\n",
    "\n",
    "4. Load your saved table and see if it looks the same or different that the DataFrame you used to create it. "
   ]
  },
  {
   "cell_type": "code",
   "execution_count": 16,
   "metadata": {},
   "outputs": [
    {
     "name": "stdout",
     "output_type": "stream",
     "text": [
      "  neighbourhood_group   mean_price\n",
      "0               Bronx    92.751479\n",
      "1            Brooklyn   120.225258\n",
      "2           Manhattan   191.880466\n",
      "3              Queens    99.754965\n",
      "4       Staten Island   110.947214\n",
      "\n",
      "  neighbourhood_group  n_listings\n",
      "0               Bronx        1183\n",
      "1            Brooklyn       18632\n",
      "2           Manhattan       20580\n",
      "3          LongIsland        4121\n"
     ]
    }
   ],
   "source": [
    "# 1. Load the `prices.csv` and the `n_listings.csv`\n",
    "df_prices = pd.read_csv('/workspaces/ds-fall-2025-fri-0630/Week-01-Pandas/data/prices.csv')\n",
    "df_listings = pd.read_csv('/workspaces/ds-fall-2025-fri-0630/Week-01-Pandas/data/n_listings.csv', sep=';')\n",
    "\n",
    "print(df_prices.head())\n",
    "print()\n",
    "print(df_listings.head())"
   ]
  },
  {
   "cell_type": "code",
   "execution_count": 17,
   "metadata": {},
   "outputs": [
    {
     "data": {
      "text/html": [
       "<div>\n",
       "<style scoped>\n",
       "    .dataframe tbody tr th:only-of-type {\n",
       "        vertical-align: middle;\n",
       "    }\n",
       "\n",
       "    .dataframe tbody tr th {\n",
       "        vertical-align: top;\n",
       "    }\n",
       "\n",
       "    .dataframe thead th {\n",
       "        text-align: right;\n",
       "    }\n",
       "</style>\n",
       "<table border=\"1\" class=\"dataframe\">\n",
       "  <thead>\n",
       "    <tr style=\"text-align: right;\">\n",
       "      <th></th>\n",
       "      <th>neighbourhood_group</th>\n",
       "      <th>mean_price</th>\n",
       "      <th>n_listings</th>\n",
       "    </tr>\n",
       "  </thead>\n",
       "  <tbody>\n",
       "    <tr>\n",
       "      <th>0</th>\n",
       "      <td>Bronx</td>\n",
       "      <td>92.751479</td>\n",
       "      <td>1183.0</td>\n",
       "    </tr>\n",
       "    <tr>\n",
       "      <th>1</th>\n",
       "      <td>Brooklyn</td>\n",
       "      <td>120.225258</td>\n",
       "      <td>18632.0</td>\n",
       "    </tr>\n",
       "    <tr>\n",
       "      <th>2</th>\n",
       "      <td>Manhattan</td>\n",
       "      <td>191.880466</td>\n",
       "      <td>20580.0</td>\n",
       "    </tr>\n",
       "    <tr>\n",
       "      <th>3</th>\n",
       "      <td>Queens</td>\n",
       "      <td>99.754965</td>\n",
       "      <td>NaN</td>\n",
       "    </tr>\n",
       "    <tr>\n",
       "      <th>4</th>\n",
       "      <td>Staten Island</td>\n",
       "      <td>110.947214</td>\n",
       "      <td>NaN</td>\n",
       "    </tr>\n",
       "  </tbody>\n",
       "</table>\n",
       "</div>"
      ],
      "text/plain": [
       "  neighbourhood_group   mean_price  n_listings\n",
       "0               Bronx    92.751479      1183.0\n",
       "1            Brooklyn   120.225258     18632.0\n",
       "2           Manhattan   191.880466     20580.0\n",
       "3              Queens    99.754965         NaN\n",
       "4       Staten Island   110.947214         NaN"
      ]
     },
     "execution_count": 17,
     "metadata": {},
     "output_type": "execute_result"
    }
   ],
   "source": [
    "# 2. Do join that keeps all the records for each table.\n",
    "dfmerged = pd.merge(df_prices,\n",
    "                    df_listings,\n",
    "                    on = 'neighbourhood_group',\n",
    "                    how = 'left')\n",
    "dfmerged"
   ]
  },
  {
   "cell_type": "code",
   "execution_count": 18,
   "metadata": {},
   "outputs": [],
   "source": [
    "# 3. Save your joined csv as `joined.csv` into the data folder. \n",
    "save_as = '/workspaces/ds-fall-2025-fri-0630/Week-01-Pandas/data/joined.csv'\n",
    "\n",
    "dfmerged.to_csv(save_as, index=False)"
   ]
  },
  {
   "cell_type": "code",
   "execution_count": 19,
   "metadata": {},
   "outputs": [
    {
     "name": "stdout",
     "output_type": "stream",
     "text": [
      "  neighbourhood_group   mean_price  n_listings\n",
      "0               Bronx    92.751479      1183.0\n",
      "1            Brooklyn   120.225258     18632.0\n",
      "2           Manhattan   191.880466     20580.0\n",
      "3              Queens    99.754965         NaN\n",
      "4       Staten Island   110.947214         NaN\n"
     ]
    }
   ],
   "source": [
    "# 4. Load your newly saved file, see if it looks the same.  If not, try saving with argument `index=False`\n",
    "dfcheck = pd.read_csv('/workspaces/ds-fall-2025-fri-0630/Week-01-Pandas/data/joined.csv')\n",
    "print(dfcheck.head())"
   ]
  },
  {
   "cell_type": "markdown",
   "metadata": {},
   "source": [
    "# Extra Credit\n",
    "Every question below this cell is extra credit and optional."
   ]
  },
  {
   "cell_type": "markdown",
   "metadata": {},
   "source": [
    "### 1. (Easy) Explore this new PandasAI Package and tell me what its all about because I've never used it. \n",
    "* https://www.youtube.com/watch?v=5w6eZaoDVVk&ab_channel=CodingIsFun  \n",
    "* See if you can use it on the listings.csv to find out some cool info. or answer some of the questions above. "
   ]
  },
  {
   "cell_type": "markdown",
   "metadata": {},
   "source": [
    "### 2. (Very Easy) Find other cool Panda packages / add ons and show us what they can do well. And how you installed them. "
   ]
  },
  {
   "cell_type": "markdown",
   "metadata": {},
   "source": [
    "\n",
    "https://pypi.org/project/lux-api/\n",
    "\n",
    "Lux shows visualizations of your dataframe, it is helpful to use for finding things like correlation. I had a project where I was trying to figure out which features to remove, and I used Lux to visualize the outlier features that I would want to remove. \n",
    "\n",
    "to use it:\n",
    "import lux\n",
    "import pandas as pd\n",
    "\n",
    "when you use df to see ur dataframe, it will provide a visualization. The linked website shows what happens.\n"
   ]
  },
  {
   "cell_type": "markdown",
   "metadata": {},
   "source": [
    "### 3. (Medium) Use the grammys.csv data for the next section of questions.\n",
    "\n",
    "1. Who was won Album of the Year in 2016?\n",
    "\n",
    "\n",
    "2. Who won Best Rap Album in 2009?\n",
    "\n",
    "\n",
    "3. How many awards was Kendrick Lamar nomiated for, and how many did he win...?"
   ]
  },
  {
   "cell_type": "markdown",
   "metadata": {},
   "source": [
    "### (Hard) Load the Game Logs for 2022 and add the column names using a dictionary.  \n",
    "* [Link to the data page](https://www.retrosheet.org/gamelogs/)\n",
    "* [Link to the column names](https://procatinator.com/)\n",
    "* haha, gotta find them yourself!"
   ]
  },
  {
   "cell_type": "markdown",
   "metadata": {},
   "source": [
    "### (Extra Hard) Download the files for the past 5 years into a new folder and add them all into one data frame using pandas, then save that new file.\n",
    "* Try to not hard code in the file names. We want to do this programmatically because what if we want to add new/more file names in the future."
   ]
  },
  {
   "cell_type": "code",
   "execution_count": null,
   "metadata": {},
   "outputs": [],
   "source": []
  }
 ],
 "metadata": {
  "kernelspec": {
   "display_name": "Python 3",
   "language": "python",
   "name": "python3"
  },
  "language_info": {
   "codemirror_mode": {
    "name": "ipython",
    "version": 3
   },
   "file_extension": ".py",
   "mimetype": "text/x-python",
   "name": "python",
   "nbconvert_exporter": "python",
   "pygments_lexer": "ipython3",
   "version": "3.12.1"
  }
 },
 "nbformat": 4,
 "nbformat_minor": 4
}
