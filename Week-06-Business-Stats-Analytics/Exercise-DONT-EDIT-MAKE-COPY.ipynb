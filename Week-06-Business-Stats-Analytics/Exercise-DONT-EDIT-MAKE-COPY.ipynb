{
 "cells": [
  {
   "cell_type": "markdown",
   "id": "15cd454b",
   "metadata": {},
   "source": [
    "# Week 06: Business Statistics & Analytics - E-commerce Analysis\n",
    "\n",
    "## Learning Objectives\n",
    "By the end of this exercise, you will be able to:\n",
    "- Calculate key business metrics using pandas\n",
    "- Create meaningful visualizations for business insights\n",
    "- Apply statistical concepts to real business scenarios\n",
    "- Make data-driven recommendations\n",
    "\n",
    "---\n",
    "\n",
    "## Business Context\n",
    "\n",
    "You're working as a Data Analyst for **TechMart**, an e-commerce company. Your manager needs insights from last quarter's sales data to inform strategic decisions for the upcoming quarter.\n",
    "\n",
    "Your analysis will help answer critical questions about customer behavior, regional performance, and product trends that directly impact business growth."
   ]
  },
  {
   "cell_type": "markdown",
   "id": "023b9e8d",
   "metadata": {},
   "source": [
    "## Dataset Setup\n",
    "\n",
    "First, let's generate the synthetic dataset you'll be analyzing:"
   ]
  },
  {
   "cell_type": "code",
   "execution_count": null,
   "id": "3608e087",
   "metadata": {},
   "outputs": [],
   "source": [
    "\n",
    "import pandas as pd\n",
    "import numpy as np\n",
    "import matplotlib.pyplot as plt\n",
    "import seaborn as sns\n",
    "\n",
    "# Set random seed for reproducible results\n",
    "np.random.seed(42)\n",
    "\n",
    "# Generate 500 orders from 2023\n",
    "n_orders = 500\n",
    "\n",
    "# Create order IDs and customer data\n",
    "order_id = np.arange(1, n_orders + 1)\n",
    "customer_id = np.random.randint(1, 101, size=n_orders)\n",
    "customer_segment = np.random.choice([\"Student\", \"Professional\", \"Senior\"], size=n_orders, p=[0.4, 0.4, 0.2])\n",
    "region = np.random.choice([\"North\", \"South\", \"East\", \"West\"], size=n_orders)\n",
    "order_date = pd.date_range(start=\"2023-01-01\", periods=n_orders, freq=\"D\")\n",
    "product_category = np.random.choice([\"Electronics\", \"Clothing\", \"Books\", \"Home\", \"Sports\"], size=n_orders)\n",
    "quantity = np.random.randint(1, 5, size=n_orders)\n",
    "unit_price = np.round(np.random.uniform(10, 200, size=n_orders), 2)\n",
    "revenue = quantity * unit_price\n",
    "discount_applied = np.random.choice([0, 5, 10, 15, 20, 25, 30], size=n_orders, p=[0.5,0.1,0.1,0.1,0.05,0.05,0.1])\n",
    "payment_method = np.random.choice([\"Credit Card\", \"PayPal\", \"Gift Card\", \"Debit Card\"], size=n_orders)\n",
    "\n",
    "# Build dataframe\n",
    "df = pd.DataFrame({\n",
    "    \"order_id\": order_id,\n",
    "    \"customer_id\": customer_id,\n",
    "    \"customer_segment\": customer_segment,\n",
    "    \"region\": region,\n",
    "    \"order_date\": order_date,\n",
    "    \"product_category\": product_category,\n",
    "    \"quantity\": quantity,\n",
    "    \"unit_price\": unit_price,\n",
    "    \"revenue\": revenue,\n",
    "    \"discount_applied\": discount_applied,\n",
    "    \"payment_method\": payment_method\n",
    "})\n",
    "\n",
    "# Save dataset for reference\n",
    "df.to_csv(\"ecommerce_data.csv\", index=False)\n",
    "print(\"✅ Dataset created successfully!\")\n",
    "\n",
    "# Display first few rows\n",
    "df.head()"
   ]
  },
  {
   "cell_type": "markdown",
   "id": "fbf765c7",
   "metadata": {},
   "source": [
    "## Data Exploration\n",
    "\n",
    "Let's start by understanding our dataset:"
   ]
  },
  {
   "cell_type": "code",
   "execution_count": null,
   "id": "9ab80b5b",
   "metadata": {},
   "outputs": [],
   "source": [
    "# Load the data\n",
    "data = pd.read_csv(\"ecommerce_data.csv\")\n",
    "\n",
    "# Basic information about the dataset\n",
    "print(\"Dataset Info:\")\n",
    "print(data.info())\n",
    "print(\"\\nDataset Shape:\", data.shape)\n",
    "print(\"\\nFirst few rows:\")\n",
    "data.head()"
   ]
  },
  {
   "cell_type": "code",
   "execution_count": null,
   "id": "45510b1d",
   "metadata": {},
   "outputs": [],
   "source": [
    "# Convert order_date to datetime and add helpful columns\n",
    "data[\"order_date\"] = pd.to_datetime(data[\"order_date\"])\n",
    "data[\"month\"] = data[\"order_date\"].dt.to_period(\"M\")\n",
    "data[\"day_of_week\"] = data[\"order_date\"].dt.day_name()\n",
    "\n",
    "# Example: Revenue by month\n",
    "monthly_revenue = data.groupby(\"month\")[\"revenue\"].sum()\n",
    "print(\"Monthly Revenue:\")\n",
    "print(monthly_revenue)\n",
    "\n",
    "# Plot monthly revenue\n",
    "monthly_revenue.plot(kind=\"bar\", figsize=(10,6), title=\"Monthly Revenue\")\n",
    "plt.ylabel(\"Revenue ($)\")\n",
    "plt.xticks(rotation=45)\n",
    "plt.tight_layout()\n",
    "plt.show()"
   ]
  },
  {
   "cell_type": "markdown",
   "id": "62a50bf3",
   "metadata": {},
   "source": [
    "---\n",
    "\n",
    "## Business Questions\n",
    "\n",
    "Now answer each of the following business questions. Use the starter code above as a reference, and expand your analysis to solve all questions."
   ]
  },
  {
   "cell_type": "markdown",
   "id": "fbb669ad",
   "metadata": {},
   "source": [
    "### 1. Revenue Overview\n",
    "What was the company's total revenue last quarter? Break it down by month."
   ]
  },
  {
   "cell_type": "code",
   "execution_count": null,
   "id": "12d89265",
   "metadata": {},
   "outputs": [],
   "source": [
    "# Your code here"
   ]
  },
  {
   "cell_type": "markdown",
   "id": "a9b5c29e",
   "metadata": {},
   "source": [
    "### 2. Top Customers\n",
    "Who are the top 5 customers by total revenue contribution?"
   ]
  },
  {
   "cell_type": "code",
   "execution_count": null,
   "id": "75147e3f",
   "metadata": {},
   "outputs": [],
   "source": [
    "# Your code here"
   ]
  },
  {
   "cell_type": "markdown",
   "id": "3ce59b98",
   "metadata": {},
   "source": [
    "### 3. Segment Analysis\n",
    "Which customer segment (Student, Professional, Senior) spends the most on average per order?"
   ]
  },
  {
   "cell_type": "code",
   "execution_count": null,
   "id": "6fa0576d",
   "metadata": {},
   "outputs": [],
   "source": [
    "# Your code here"
   ]
  },
  {
   "cell_type": "markdown",
   "id": "507ae942",
   "metadata": {},
   "source": [
    "### 4. Regional Trends\n",
    "Which region generated the highest revenue? Which region had the highest average order size?"
   ]
  },
  {
   "cell_type": "code",
   "execution_count": null,
   "id": "91f5071a",
   "metadata": {},
   "outputs": [],
   "source": [
    "# Your code here"
   ]
  },
  {
   "cell_type": "markdown",
   "id": "5b7e51d1",
   "metadata": {},
   "source": [
    "### 5. Product Category Performance\n",
    "Which product category is most popular by quantity vs. by revenue?"
   ]
  },
  {
   "cell_type": "code",
   "execution_count": null,
   "id": "1041c72c",
   "metadata": {},
   "outputs": [],
   "source": [
    "# Your code here"
   ]
  },
  {
   "cell_type": "markdown",
   "id": "bc82f78d",
   "metadata": {},
   "source": [
    "### 6. Discount Effectiveness\n",
    "Do discounted orders generate higher or lower revenue per order compared to non-discounted orders?"
   ]
  },
  {
   "cell_type": "code",
   "execution_count": null,
   "id": "7cb097dc",
   "metadata": {},
   "outputs": [],
   "source": [
    "# Your code here"
   ]
  },
  {
   "cell_type": "markdown",
   "id": "a495feba",
   "metadata": {},
   "source": [
    "### 7. Payment Method Usage\n",
    "What percentage of orders use each payment method? Does any payment method correlate with higher spending?"
   ]
  },
  {
   "cell_type": "code",
   "execution_count": null,
   "id": "64b6f2b9",
   "metadata": {},
   "outputs": [],
   "source": [
    "# Your code here"
   ]
  },
  {
   "cell_type": "markdown",
   "id": "a525cd28",
   "metadata": {},
   "source": [
    "### 8. Seasonality Check\n",
    "Plot revenue by day of week — are weekends busier than weekdays?"
   ]
  },
  {
   "cell_type": "code",
   "execution_count": null,
   "id": "594adf29",
   "metadata": {},
   "outputs": [],
   "source": [
    "# Your code here"
   ]
  },
  {
   "cell_type": "markdown",
   "id": "08ae2706",
   "metadata": {},
   "source": [
    "### 9. Profitability (Stretch)\n",
    "Assume profit margin = 20% of revenue. Estimate total profit and identify the most profitable region."
   ]
  },
  {
   "cell_type": "code",
   "execution_count": null,
   "id": "490e9ee2",
   "metadata": {},
   "outputs": [],
   "source": [
    "# Your code here"
   ]
  },
  {
   "cell_type": "markdown",
   "id": "259fe6f7",
   "metadata": {},
   "source": [
    "### 10. Business Recommendation\n",
    "Based on your findings, recommend one strategy (e.g., focus on certain customer segments, increase discounts, promote specific regions/products)."
   ]
  },
  {
   "cell_type": "markdown",
   "id": "9415b35d",
   "metadata": {},
   "source": [
    "**Your recommendation here:**\n",
    "\n",
    "Write your analysis and recommendation based on the insights you discovered from the data."
   ]
  },
  {
   "cell_type": "markdown",
   "id": "9d86796a",
   "metadata": {},
   "source": [
    "---\n",
    "\n",
    "## Submission Requirements\n",
    "\n",
    "1. **Complete code** for all 10 questions\n",
    "2. **Clear visualizations** where appropriate  \n",
    "3. **Brief interpretation** of each result\n",
    "4. **Final business recommendation** with supporting data\n",
    "\n",
    "Remember: Focus on what the numbers tell us about the business, not just the calculations themselves."
   ]
  }
 ],
 "metadata": {
  "kernelspec": {
   "display_name": "Python 3",
   "language": "python",
   "name": "python3"
  },
  "language_info": {
   "codemirror_mode": {
    "name": "ipython",
    "version": 3
   },
   "file_extension": ".py",
   "mimetype": "text/x-python",
   "name": "python",
   "nbconvert_exporter": "python",
   "pygments_lexer": "ipython3",
   "version": "3.11.9"
  }
 },
 "nbformat": 4,
 "nbformat_minor": 5
}
