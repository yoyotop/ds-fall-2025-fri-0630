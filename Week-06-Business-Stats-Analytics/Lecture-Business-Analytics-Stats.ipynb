{
 "cells": [
  {
   "cell_type": "code",
   "execution_count": null,
   "id": "f8211cec",
   "metadata": {},
   "outputs": [
    {
     "name": "stdout",
     "output_type": "stream",
     "text": [
      "Run this cell before doing the imports because of a bug in codespace.\n"
     ]
    }
   ],
   "source": [
    "# Run this cell before doing the imports because of a bug in codespace\n",
    "print('Run this cell before doing the imports because of a bug in codespace.')"
   ]
  },
  {
   "cell_type": "code",
   "execution_count": null,
   "id": "8306933a",
   "metadata": {},
   "outputs": [
    {
     "name": "stdout",
     "output_type": "stream",
     "text": [
      "Requirement already satisfied: pandas in /home/codespace/.local/lib/python3.12/site-packages (2.3.1)\n",
      "Requirement already satisfied: numpy in /home/codespace/.local/lib/python3.12/site-packages (2.3.1)\n",
      "Requirement already satisfied: scipy in /home/codespace/.local/lib/python3.12/site-packages (1.16.0)\n",
      "Requirement already satisfied: statsmodels in /usr/local/python/3.12.1/lib/python3.12/site-packages (0.14.5)\n",
      "Requirement already satisfied: matplotlib in /home/codespace/.local/lib/python3.12/site-packages (3.10.3)\n",
      "Requirement already satisfied: seaborn in /home/codespace/.local/lib/python3.12/site-packages (0.13.2)\n",
      "Requirement already satisfied: scikit-learn in /home/codespace/.local/lib/python3.12/site-packages (1.7.0)\n",
      "Requirement already satisfied: openpyxl in /usr/local/python/3.12.1/lib/python3.12/site-packages (3.1.5)\n",
      "Requirement already satisfied: python-dateutil>=2.8.2 in /home/codespace/.local/lib/python3.12/site-packages (from pandas) (2.9.0.post0)\n",
      "Requirement already satisfied: pytz>=2020.1 in /home/codespace/.local/lib/python3.12/site-packages (from pandas) (2025.2)\n",
      "Requirement already satisfied: tzdata>=2022.7 in /home/codespace/.local/lib/python3.12/site-packages (from pandas) (2025.2)\n",
      "Requirement already satisfied: patsy>=0.5.6 in /usr/local/python/3.12.1/lib/python3.12/site-packages (from statsmodels) (1.0.1)\n",
      "Requirement already satisfied: packaging>=21.3 in /home/codespace/.local/lib/python3.12/site-packages (from statsmodels) (25.0)\n",
      "Requirement already satisfied: contourpy>=1.0.1 in /home/codespace/.local/lib/python3.12/site-packages (from matplotlib) (1.3.2)\n",
      "Requirement already satisfied: cycler>=0.10 in /home/codespace/.local/lib/python3.12/site-packages (from matplotlib) (0.12.1)\n",
      "Requirement already satisfied: fonttools>=4.22.0 in /home/codespace/.local/lib/python3.12/site-packages (from matplotlib) (4.58.5)\n",
      "Requirement already satisfied: kiwisolver>=1.3.1 in /home/codespace/.local/lib/python3.12/site-packages (from matplotlib) (1.4.8)\n",
      "Requirement already satisfied: pillow>=8 in /home/codespace/.local/lib/python3.12/site-packages (from matplotlib) (11.3.0)\n",
      "Requirement already satisfied: pyparsing>=2.3.1 in /home/codespace/.local/lib/python3.12/site-packages (from matplotlib) (3.2.3)\n",
      "Requirement already satisfied: joblib>=1.2.0 in /home/codespace/.local/lib/python3.12/site-packages (from scikit-learn) (1.5.1)\n",
      "Requirement already satisfied: threadpoolctl>=3.1.0 in /home/codespace/.local/lib/python3.12/site-packages (from scikit-learn) (3.6.0)\n",
      "Requirement already satisfied: et-xmlfile in /usr/local/python/3.12.1/lib/python3.12/site-packages (from openpyxl) (2.0.0)\n",
      "Requirement already satisfied: six>=1.5 in /home/codespace/.local/lib/python3.12/site-packages (from python-dateutil>=2.8.2->pandas) (1.17.0)\n",
      "\n",
      "\u001b[1m[\u001b[0m\u001b[34;49mnotice\u001b[0m\u001b[1;39;49m]\u001b[0m\u001b[39;49m A new release of pip is available: \u001b[0m\u001b[31;49m25.1.1\u001b[0m\u001b[39;49m -> \u001b[0m\u001b[32;49m25.2\u001b[0m\n",
      "\u001b[1m[\u001b[0m\u001b[34;49mnotice\u001b[0m\u001b[1;39;49m]\u001b[0m\u001b[39;49m To update, run: \u001b[0m\u001b[32;49mpython -m pip install --upgrade pip\u001b[0m\n",
      "Note: you may need to restart the kernel to use updated packages.\n"
     ]
    }
   ],
   "source": [
    "# If running locally and you need to install required packages for data analysis and visualization\n",
    "%pip install pandas numpy scipy statsmodels matplotlib seaborn scikit-learn openpyxl"
   ]
  },
  {
   "cell_type": "code",
   "execution_count": null,
   "id": "9525c260",
   "metadata": {},
   "outputs": [],
   "source": [
    "# Import essential libraries for data analysis, statistics, and visualization\n",
    "import numpy as np  # Numerical computing\n",
    "import pandas as pd  # Data manipulation and analysis\n",
    "import matplotlib.pyplot as plt  # Basic plotting\n",
    "import seaborn as sns  # Statistical data visualization\n",
    "from scipy import stats  # Statistical functions\n",
    "import statsmodels.api as sm  # Statistical modeling\n",
    "import warnings  # Warning control\n",
    "\n",
    "# Import additional libraries for enhanced display and interactive plots\n",
    "from IPython.display import Markdown, display  # Rich text display in notebooks\n",
    "import plotly.express as px  # Interactive plotting\n",
    "\n",
    "# Suppress warnings to keep output clean\n",
    "warnings.filterwarnings(\"ignore\")\n",
    "\n",
    "# Set default plot parameters for better readability\n",
    "plt.rcParams[\"figure.figsize\"] = (13, 8)  # Larger figure size\n",
    "plt.rcParams[\"axes.grid\"] = True  # Show grid lines for easier reading"
   ]
  },
  {
   "cell_type": "markdown",
   "id": "945d6c5c",
   "metadata": {},
   "source": [
    "## 1) Load Data"
   ]
  },
  {
   "cell_type": "code",
   "execution_count": null,
   "id": "a3508c80",
   "metadata": {},
   "outputs": [
    {
     "data": {
      "text/html": [
       "<div>\n",
       "<style scoped>\n",
       "    .dataframe tbody tr th:only-of-type {\n",
       "        vertical-align: middle;\n",
       "    }\n",
       "\n",
       "    .dataframe tbody tr th {\n",
       "        vertical-align: top;\n",
       "    }\n",
       "\n",
       "    .dataframe thead th {\n",
       "        text-align: right;\n",
       "    }\n",
       "</style>\n",
       "<table border=\"1\" class=\"dataframe\">\n",
       "  <thead>\n",
       "    <tr style=\"text-align: right;\">\n",
       "      <th></th>\n",
       "      <th>post_id</th>\n",
       "      <th>user_id</th>\n",
       "      <th>post_time</th>\n",
       "      <th>post_hour</th>\n",
       "      <th>post_type</th>\n",
       "      <th>paid_boost</th>\n",
       "      <th>hashtags_count</th>\n",
       "      <th>followers_at_post</th>\n",
       "      <th>views</th>\n",
       "      <th>likes</th>\n",
       "      <th>clicks</th>\n",
       "      <th>comments</th>\n",
       "      <th>shares</th>\n",
       "      <th>watch_time_total_sec</th>\n",
       "      <th>like_rate</th>\n",
       "      <th>click_through_rate</th>\n",
       "      <th>comment_rate</th>\n",
       "      <th>session_time_normal</th>\n",
       "      <th>clicks_binomial</th>\n",
       "    </tr>\n",
       "  </thead>\n",
       "  <tbody>\n",
       "    <tr>\n",
       "      <th>0</th>\n",
       "      <td>1</td>\n",
       "      <td>186</td>\n",
       "      <td>2025-06-12 03:23:46.951695</td>\n",
       "      <td>3</td>\n",
       "      <td>text</td>\n",
       "      <td>0</td>\n",
       "      <td>0</td>\n",
       "      <td>22828</td>\n",
       "      <td>23112</td>\n",
       "      <td>198</td>\n",
       "      <td>96</td>\n",
       "      <td>35</td>\n",
       "      <td>15</td>\n",
       "      <td>10889</td>\n",
       "      <td>0.008567</td>\n",
       "      <td>0.004154</td>\n",
       "      <td>0.001514</td>\n",
       "      <td>32.483571</td>\n",
       "      <td>4</td>\n",
       "    </tr>\n",
       "    <tr>\n",
       "      <th>1</th>\n",
       "      <td>2</td>\n",
       "      <td>273</td>\n",
       "      <td>2025-07-27 10:40:21.951695</td>\n",
       "      <td>10</td>\n",
       "      <td>image</td>\n",
       "      <td>0</td>\n",
       "      <td>5</td>\n",
       "      <td>4459</td>\n",
       "      <td>2893</td>\n",
       "      <td>148</td>\n",
       "      <td>29</td>\n",
       "      <td>5</td>\n",
       "      <td>6</td>\n",
       "      <td>1835</td>\n",
       "      <td>0.051158</td>\n",
       "      <td>0.010024</td>\n",
       "      <td>0.001728</td>\n",
       "      <td>29.308678</td>\n",
       "      <td>6</td>\n",
       "    </tr>\n",
       "    <tr>\n",
       "      <th>2</th>\n",
       "      <td>3</td>\n",
       "      <td>80</td>\n",
       "      <td>2025-08-25 13:23:31.951695</td>\n",
       "      <td>13</td>\n",
       "      <td>video</td>\n",
       "      <td>0</td>\n",
       "      <td>2</td>\n",
       "      <td>3607</td>\n",
       "      <td>5644</td>\n",
       "      <td>285</td>\n",
       "      <td>56</td>\n",
       "      <td>0</td>\n",
       "      <td>17</td>\n",
       "      <td>149281</td>\n",
       "      <td>0.050496</td>\n",
       "      <td>0.009922</td>\n",
       "      <td>0.000000</td>\n",
       "      <td>33.238443</td>\n",
       "      <td>2</td>\n",
       "    </tr>\n",
       "    <tr>\n",
       "      <th>3</th>\n",
       "      <td>4</td>\n",
       "      <td>310</td>\n",
       "      <td>2025-08-16 12:44:40.951695</td>\n",
       "      <td>12</td>\n",
       "      <td>link</td>\n",
       "      <td>0</td>\n",
       "      <td>3</td>\n",
       "      <td>27786</td>\n",
       "      <td>10885</td>\n",
       "      <td>164</td>\n",
       "      <td>135</td>\n",
       "      <td>17</td>\n",
       "      <td>3</td>\n",
       "      <td>1236</td>\n",
       "      <td>0.015067</td>\n",
       "      <td>0.012402</td>\n",
       "      <td>0.001562</td>\n",
       "      <td>37.615149</td>\n",
       "      <td>6</td>\n",
       "    </tr>\n",
       "    <tr>\n",
       "      <th>4</th>\n",
       "      <td>5</td>\n",
       "      <td>131</td>\n",
       "      <td>2025-06-27 09:38:41.951695</td>\n",
       "      <td>9</td>\n",
       "      <td>video</td>\n",
       "      <td>0</td>\n",
       "      <td>4</td>\n",
       "      <td>3328</td>\n",
       "      <td>2974</td>\n",
       "      <td>163</td>\n",
       "      <td>58</td>\n",
       "      <td>0</td>\n",
       "      <td>8</td>\n",
       "      <td>193917</td>\n",
       "      <td>0.054808</td>\n",
       "      <td>0.019502</td>\n",
       "      <td>0.000000</td>\n",
       "      <td>28.829233</td>\n",
       "      <td>3</td>\n",
       "    </tr>\n",
       "  </tbody>\n",
       "</table>\n",
       "</div>"
      ],
      "text/plain": [
       "   post_id  user_id                   post_time  post_hour post_type  \\\n",
       "0        1      186  2025-06-12 03:23:46.951695          3      text   \n",
       "1        2      273  2025-07-27 10:40:21.951695         10     image   \n",
       "2        3       80  2025-08-25 13:23:31.951695         13     video   \n",
       "3        4      310  2025-08-16 12:44:40.951695         12      link   \n",
       "4        5      131  2025-06-27 09:38:41.951695          9     video   \n",
       "\n",
       "   paid_boost  hashtags_count  followers_at_post  views  likes  clicks  \\\n",
       "0           0               0              22828  23112    198      96   \n",
       "1           0               5               4459   2893    148      29   \n",
       "2           0               2               3607   5644    285      56   \n",
       "3           0               3              27786  10885    164     135   \n",
       "4           0               4               3328   2974    163      58   \n",
       "\n",
       "   comments  shares  watch_time_total_sec  like_rate  click_through_rate  \\\n",
       "0        35      15                 10889   0.008567            0.004154   \n",
       "1         5       6                  1835   0.051158            0.010024   \n",
       "2         0      17                149281   0.050496            0.009922   \n",
       "3        17       3                  1236   0.015067            0.012402   \n",
       "4         0       8                193917   0.054808            0.019502   \n",
       "\n",
       "   comment_rate  session_time_normal  clicks_binomial  \n",
       "0      0.001514            32.483571                4  \n",
       "1      0.001728            29.308678                6  \n",
       "2      0.000000            33.238443                2  \n",
       "3      0.001562            37.615149                6  \n",
       "4      0.000000            28.829233                3  "
      ]
     },
     "execution_count": 4,
     "metadata": {},
     "output_type": "execute_result"
    }
   ],
   "source": [
    "# Load the social media posts dataset from CSV file\n",
    "df = pd.read_csv('data/social_media_posts.csv')\n",
    "# Display the first 5 rows to get an initial look at the data structure\n",
    "df.head()"
   ]
  },
  {
   "cell_type": "markdown",
   "id": "c87475d0",
   "metadata": {},
   "source": [
    "### 1.1 Sanity checks\n",
    "Quick look at shape, types, missingness, and a preview."
   ]
  },
  {
   "cell_type": "code",
   "execution_count": null,
   "id": "77815e5a",
   "metadata": {},
   "outputs": [
    {
     "data": {
      "text/plain": [
       "((3000, 19),\n",
       " post_id                   int64\n",
       " user_id                   int64\n",
       " post_time                object\n",
       " post_hour                 int64\n",
       " post_type                object\n",
       " paid_boost                int64\n",
       " hashtags_count            int64\n",
       " followers_at_post         int64\n",
       " views                     int64\n",
       " likes                     int64\n",
       " clicks                    int64\n",
       " comments                  int64\n",
       " shares                    int64\n",
       " watch_time_total_sec      int64\n",
       " like_rate               float64\n",
       " click_through_rate      float64\n",
       " comment_rate            float64\n",
       " session_time_normal     float64\n",
       " clicks_binomial           int64\n",
       " dtype: object)"
      ]
     },
     "execution_count": 5,
     "metadata": {},
     "output_type": "execute_result"
    }
   ],
   "source": [
    "# Check the dimensions of the dataset (rows, columns) and data types of each column\n",
    "df.shape, df.dtypes"
   ]
  },
  {
   "cell_type": "code",
   "execution_count": null,
   "id": "5a8a15c5",
   "metadata": {},
   "outputs": [
    {
     "data": {
      "text/plain": [
       "post_id                 0.0\n",
       "user_id                 0.0\n",
       "post_time               0.0\n",
       "post_hour               0.0\n",
       "post_type               0.0\n",
       "paid_boost              0.0\n",
       "hashtags_count          0.0\n",
       "followers_at_post       0.0\n",
       "views                   0.0\n",
       "likes                   0.0\n",
       "clicks                  0.0\n",
       "comments                0.0\n",
       "shares                  0.0\n",
       "watch_time_total_sec    0.0\n",
       "like_rate               0.0\n",
       "click_through_rate      0.0\n",
       "comment_rate            0.0\n",
       "session_time_normal     0.0\n",
       "clicks_binomial         0.0\n",
       "dtype: float64"
      ]
     },
     "execution_count": 6,
     "metadata": {},
     "output_type": "execute_result"
    }
   ],
   "source": [
    "# Calculate the proportion of missing values (NaN) for each column\n",
    "df.isna().mean()"
   ]
  },
  {
   "cell_type": "markdown",
   "id": "e2a2b1dc",
   "metadata": {},
   "source": [
    "## 2) Descriptive Statistics\n",
    "### Measure of Central Tendency\n",
    "- Mode: most frequent value\n",
    "- Median: middle value, less sensitive to outliars\n",
    "- Mean: average value (sum of all value / number of values), more sensitive to outliars\n",
    "### Measure of Spread\n",
    "- Variance/Standard deviation: average of the distance values are from the mean, higher the variance/std the more spread out, more sensitive to outliars\n",
    "- Percentile/Quartiles: division of values into equal parts, less sensitive to outliars"
   ]
  },
  {
   "cell_type": "markdown",
   "id": "92ea8089",
   "metadata": {},
   "source": [
    "\n",
    "\n",
    "**Tasks**\n",
    "- Compute mean, median, std for `revenue`, `sessions`, `purchases`.\n",
    "- Compare distributions across `region` or `group`.\n",
    "- Visualize skew/outliers.\n",
    "\n",
    "> *Why?* Before modeling, understand the data's center and spread and where outliers live."
   ]
  },
  {
   "cell_type": "code",
   "execution_count": null,
   "id": "b1d09e06",
   "metadata": {},
   "outputs": [
    {
     "name": "stdout",
     "output_type": "stream",
     "text": [
      "the mean 13.13\n",
      "the median 0.0\n",
      "the mode 0\n",
      "The Standard Deviation 41.738459844995475\n"
     ]
    }
   ],
   "source": [
    "# Calculate descriptive statistics for the 'comments' column\n",
    "# FINDING THE MEAN\n",
    "\n",
    "# Calculate mean (average) and round to 2 decimal places\n",
    "the_mean = df['comments'].mean().round(2)\n",
    "# Calculate median (middle value when sorted)\n",
    "the_median = df['comments'].median()\n",
    "# Calculate mode (most frequent value) - take first value if multiple modes\n",
    "the_mode = df['comments'].mode()[0]\n",
    "# Calculate standard deviation (measure of spread)\n",
    "the_std = df['comments'].std()\n",
    "\n",
    "# Display the calculated statistics\n",
    "print('the mean', the_mean)\n",
    "print('the median', the_median)\n",
    "print('the mode', the_mode)\n",
    "print('The Standard Deviation', the_std)"
   ]
  },
  {
   "cell_type": "code",
   "execution_count": null,
   "id": "f1a6e488",
   "metadata": {},
   "outputs": [
    {
     "data": {
      "text/plain": [
       "<Axes: >"
      ]
     },
     "execution_count": 11,
     "metadata": {},
     "output_type": "execute_result"
    },
    {
     "data": {
      "image/png": "[encoded data removed]",
      "text/plain": [
       "<Figure size 1300x800 with 1 Axes>"
      ]
     },
     "metadata": {},
     "output_type": "display_data"
    }
   ],
   "source": [
    "# Create a histogram to visualize the distribution of comments\n",
    "df['comments'].hist()"
   ]
  },
  {
   "cell_type": "code",
   "execution_count": null,
   "id": "600e2835",
   "metadata": {},
   "outputs": [
    {
     "data": {
      "application/vnd.plotly.v1+json": {
       "config": {
        "plotlyServerURL": "https://plot.ly"
       },
       "data": [
        {
         "bingroup": "x",
         "hovertemplate": "comments=%{x}<br>count=%{y}<extra></extra>",
         "legendgroup": "",
         "marker": {
          "color": "#00CC96",
          "opacity": 0.5,
          "pattern": {
           "shape": ""
          }
         },
         "name": "",
         "orientation": "v",
         "showlegend": false,
         "type": "histogram",
         "x": {
          "bdata": "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",
          "dtype": "i2"
         },
         "xaxis": "x",
         "yaxis": "y"
        }
       ],
       "layout": {
        "annotations": [
         {
          "showarrow": false,
          "text": "Mean: 13.13",
          "x": 13.131666666666666,
          "xanchor": "left",
          "xref": "x",
          "y": 1,
          "yanchor": "top",
          "yref": "y domain"
         },
         {
          "showarrow": false,
          "text": "Mode: 0.00",
          "x": 0,
          "xanchor": "right",
          "xref": "x",
          "y": 1,
          "yanchor": "top",
          "yref": "y domain"
         },
         {
          "showarrow": false,
          "text": "Median: 0.00",
          "x": 0,
          "xanchor": "right",
          "xref": "x",
          "y": 0,
          "yanchor": "bottom",
          "yref": "y domain"
         }
        ],
        "barmode": "overlay",
        "legend": {
         "tracegroupgap": 0
        },
        "shapes": [
         {
          "line": {
           "color": "cyan",
           "dash": "dash",
           "width": 2
          },
          "type": "line",
          "x0": 13.131666666666666,
          "x1": 13.131666666666666,
          "xref": "x",
          "y0": 0,
          "y1": 1,
          "yref": "y domain"
         },
         {
          "line": {
           "color": "pink",
           "dash": "dash"
          },
          "type": "line",
          "x0": 0,
          "x1": 0,
          "xref": "x",
          "y0": 0,
          "y1": 1,
          "yref": "y domain"
         },
         {
          "line": {
           "color": "yellow",
           "dash": "dash"
          },
          "type": "line",
          "x0": 0,
          "x1": 0,
          "xref": "x",
          "y0": 0,
          "y1": 1,
          "yref": "y domain"
         }
        ],
        "template": {
         "data": {
          "bar": [
           {
            "error_x": {
             "color": "#f2f5fa"
            },
            "error_y": {
             "color": "#f2f5fa"
            },
            "marker": {
             "line": {
              "color": "rgb(17,17,17)",
              "width": 0.5
             },
             "pattern": {
              "fillmode": "overlay",
              "size": 10,
              "solidity": 0.2
             }
            },
            "type": "bar"
           }
          ],
          "barpolar": [
           {
            "marker": {
             "line": {
              "color": "rgb(17,17,17)",
              "width": 0.5
             },
             "pattern": {
              "fillmode": "overlay",
              "size": 10,
              "solidity": 0.2
             }
            },
            "type": "barpolar"
           }
          ],
          "carpet": [
           {
            "aaxis": {
             "endlinecolor": "#A2B1C6",
             "gridcolor": "#506784",
             "linecolor": "#506784",
             "minorgridcolor": "#506784",
             "startlinecolor": "#A2B1C6"
            },
            "baxis": {
             "endlinecolor": "#A2B1C6",
             "gridcolor": "#506784",
             "linecolor": "#506784",
             "minorgridcolor": "#506784",
             "startlinecolor": "#A2B1C6"
            },
            "type": "carpet"
           }
          ],
          "choropleth": [
           {
            "colorbar": {
             "outlinewidth": 0,
             "ticks": ""
            },
            "type": "choropleth"
           }
          ],
          "contour": [
           {
            "colorbar": {
             "outlinewidth": 0,
             "ticks": ""
            },
            "colorscale": [
             [
              0,
              "#0d0887"
             ],
             [
              0.1111111111111111,
              "#46039f"
             ],
             [
              0.2222222222222222,
              "#7201a8"
             ],
             [
              0.3333333333333333,
              "#9c179e"
             ],
             [
              0.4444444444444444,
              "#bd3786"
             ],
             [
              0.5555555555555556,
              "#d8576b"
             ],
             [
              0.6666666666666666,
              "#ed7953"
             ],
             [
              0.7777777777777778,
              "#fb9f3a"
             ],
             [
              0.8888888888888888,
              "#fdca26"
             ],
             [
              1,
              "#f0f921"
             ]
            ],
            "type": "contour"
           }
          ],
          "contourcarpet": [
           {
            "colorbar": {
             "outlinewidth": 0,
             "ticks": ""
            },
            "type": "contourcarpet"
           }
          ],
          "heatmap": [
           {
            "colorbar": {
             "outlinewidth": 0,
             "ticks": ""
            },
            "colorscale": [
             [
              0,
              "#0d0887"
             ],
             [
              0.1111111111111111,
              "#46039f"
             ],
             [
              0.2222222222222222,
              "#7201a8"
             ],
             [
              0.3333333333333333,
              "#9c179e"
             ],
             [
              0.4444444444444444,
              "#bd3786"
             ],
             [
              0.5555555555555556,
              "#d8576b"
             ],
             [
              0.6666666666666666,
              "#ed7953"
             ],
             [
              0.7777777777777778,
              "#fb9f3a"
             ],
             [
              0.8888888888888888,
              "#fdca26"
             ],
             [
              1,
              "#f0f921"
             ]
            ],
            "type": "heatmap"
           }
          ],
          "histogram": [
           {
            "marker": {
             "pattern": {
              "fillmode": "overlay",
              "size": 10,
              "solidity": 0.2
             }
            },
            "type": "histogram"
           }
          ],
          "histogram2d": [
           {
            "colorbar": {
             "outlinewidth": 0,
             "ticks": ""
            },
            "colorscale": [
             [
              0,
              "#0d0887"
             ],
             [
              0.1111111111111111,
              "#46039f"
             ],
             [
              0.2222222222222222,
              "#7201a8"
             ],
             [
              0.3333333333333333,
              "#9c179e"
             ],
             [
              0.4444444444444444,
              "#bd3786"
             ],
             [
              0.5555555555555556,
              "#d8576b"
             ],
             [
              0.6666666666666666,
              "#ed7953"
             ],
             [
              0.7777777777777778,
              "#fb9f3a"
             ],
             [
              0.8888888888888888,
              "#fdca26"
             ],
             [
              1,
              "#f0f921"
             ]
            ],
            "type": "histogram2d"
           }
          ],
          "histogram2dcontour": [
           {
            "colorbar": {
             "outlinewidth": 0,
             "ticks": ""
            },
            "colorscale": [
             [
              0,
              "#0d0887"
             ],
             [
              0.1111111111111111,
              "#46039f"
             ],
             [
              0.2222222222222222,
              "#7201a8"
             ],
             [
              0.3333333333333333,
              "#9c179e"
             ],
             [
              0.4444444444444444,
              "#bd3786"
             ],
             [
              0.5555555555555556,
              "#d8576b"
             ],
             [
              0.6666666666666666,
              "#ed7953"
             ],
             [
              0.7777777777777778,
              "#fb9f3a"
             ],
             [
              0.8888888888888888,
              "#fdca26"
             ],
             [
              1,
              "#f0f921"
             ]
            ],
            "type": "histogram2dcontour"
           }
          ],
          "mesh3d": [
           {
            "colorbar": {
             "outlinewidth": 0,
             "ticks": ""
            },
            "type": "mesh3d"
           }
          ],
          "parcoords": [
           {
            "line": {
             "colorbar": {
              "outlinewidth": 0,
              "ticks": ""
             }
            },
            "type": "parcoords"
           }
          ],
          "pie": [
           {
            "automargin": true,
            "type": "pie"
           }
          ],
          "scatter": [
           {
            "marker": {
             "line": {
              "color": "#283442"
             }
            },
            "type": "scatter"
           }
          ],
          "scatter3d": [
           {
            "line": {
             "colorbar": {
              "outlinewidth": 0,
              "ticks": ""
             }
            },
            "marker": {
             "colorbar": {
              "outlinewidth": 0,
              "ticks": ""
             }
            },
            "type": "scatter3d"
           }
          ],
          "scattercarpet": [
           {
            "marker": {
             "colorbar": {
              "outlinewidth": 0,
              "ticks": ""
             }
            },
            "type": "scattercarpet"
           }
          ],
          "scattergeo": [
           {
            "marker": {
             "colorbar": {
              "outlinewidth": 0,
              "ticks": ""
             }
            },
            "type": "scattergeo"
           }
          ],
          "scattergl": [
           {
            "marker": {
             "line": {
              "color": "#283442"
             }
            },
            "type": "scattergl"
           }
          ],
          "scattermap": [
           {
            "marker": {
             "colorbar": {
              "outlinewidth": 0,
              "ticks": ""
             }
            },
            "type": "scattermap"
           }
          ],
          "scattermapbox": [
           {
            "marker": {
             "colorbar": {
              "outlinewidth": 0,
              "ticks": ""
             }
            },
            "type": "scattermapbox"
           }
          ],
          "scatterpolar": [
           {
            "marker": {
             "colorbar": {
              "outlinewidth": 0,
              "ticks": ""
             }
            },
            "type": "scatterpolar"
           }
          ],
          "scatterpolargl": [
           {
            "marker": {
             "colorbar": {
              "outlinewidth": 0,
              "ticks": ""
             }
            },
            "type": "scatterpolargl"
           }
          ],
          "scatterternary": [
           {
            "marker": {
             "colorbar": {
              "outlinewidth": 0,
              "ticks": ""
             }
            },
            "type": "scatterternary"
           }
          ],
          "surface": [
           {
            "colorbar": {
             "outlinewidth": 0,
             "ticks": ""
            },
            "colorscale": [
             [
              0,
              "#0d0887"
             ],
             [
              0.1111111111111111,
              "#46039f"
             ],
             [
              0.2222222222222222,
              "#7201a8"
             ],
             [
              0.3333333333333333,
              "#9c179e"
             ],
             [
              0.4444444444444444,
              "#bd3786"
             ],
             [
              0.5555555555555556,
              "#d8576b"
             ],
             [
              0.6666666666666666,
              "#ed7953"
             ],
             [
              0.7777777777777778,
              "#fb9f3a"
             ],
             [
              0.8888888888888888,
              "#fdca26"
             ],
             [
              1,
              "#f0f921"
             ]
            ],
            "type": "surface"
           }
          ],
          "table": [
           {
            "cells": {
             "fill": {
              "color": "#506784"
             },
             "line": {
              "color": "rgb(17,17,17)"
             }
            },
            "header": {
             "fill": {
              "color": "#2a3f5f"
             },
             "line": {
              "color": "rgb(17,17,17)"
             }
            },
            "type": "table"
           }
          ]
         },
         "layout": {
          "annotationdefaults": {
           "arrowcolor": "#f2f5fa",
           "arrowhead": 0,
           "arrowwidth": 1
          },
          "autotypenumbers": "strict",
          "coloraxis": {
           "colorbar": {
            "outlinewidth": 0,
            "ticks": ""
           }
          },
          "colorscale": {
           "diverging": [
            [
             0,
             "#8e0152"
            ],
            [
             0.1,
             "#c51b7d"
            ],
            [
             0.2,
             "#de77ae"
            ],
            [
             0.3,
             "#f1b6da"
            ],
            [
             0.4,
             "#fde0ef"
            ],
            [
             0.5,
             "#f7f7f7"
            ],
            [
             0.6,
             "#e6f5d0"
            ],
            [
             0.7,
             "#b8e186"
            ],
            [
             0.8,
             "#7fbc41"
            ],
            [
             0.9,
             "#4d9221"
            ],
            [
             1,
             "#276419"
            ]
           ],
           "sequential": [
            [
             0,
             "#0d0887"
            ],
            [
             0.1111111111111111,
             "#46039f"
            ],
            [
             0.2222222222222222,
             "#7201a8"
            ],
            [
             0.3333333333333333,
             "#9c179e"
            ],
            [
             0.4444444444444444,
             "#bd3786"
            ],
            [
             0.5555555555555556,
             "#d8576b"
            ],
            [
             0.6666666666666666,
             "#ed7953"
            ],
            [
             0.7777777777777778,
             "#fb9f3a"
            ],
            [
             0.8888888888888888,
             "#fdca26"
            ],
            [
             1,
             "#f0f921"
            ]
           ],
           "sequentialminus": [
            [
             0,
             "#0d0887"
            ],
            [
             0.1111111111111111,
             "#46039f"
            ],
            [
             0.2222222222222222,
             "#7201a8"
            ],
            [
             0.3333333333333333,
             "#9c179e"
            ],
            [
             0.4444444444444444,
             "#bd3786"
            ],
            [
             0.5555555555555556,
             "#d8576b"
            ],
            [
             0.6666666666666666,
             "#ed7953"
            ],
            [
             0.7777777777777778,
             "#fb9f3a"
            ],
            [
             0.8888888888888888,
             "#fdca26"
            ],
            [
             1,
             "#f0f921"
            ]
           ]
          },
          "colorway": [
           "#636efa",
           "#EF553B",
           "#00cc96",
           "#ab63fa",
           "#FFA15A",
           "#19d3f3",
           "#FF6692",
           "#B6E880",
           "#FF97FF",
           "#FECB52"
          ],
          "font": {
           "color": "#f2f5fa"
          },
          "geo": {
           "bgcolor": "rgb(17,17,17)",
           "lakecolor": "rgb(17,17,17)",
           "landcolor": "rgb(17,17,17)",
           "showlakes": true,
           "showland": true,
           "subunitcolor": "#506784"
          },
          "hoverlabel": {
           "align": "left"
          },
          "hovermode": "closest",
          "mapbox": {
           "style": "dark"
          },
          "paper_bgcolor": "rgb(17,17,17)",
          "plot_bgcolor": "rgb(17,17,17)",
          "polar": {
           "angularaxis": {
            "gridcolor": "#506784",
            "linecolor": "#506784",
            "ticks": ""
           },
           "bgcolor": "rgb(17,17,17)",
           "radialaxis": {
            "gridcolor": "#506784",
            "linecolor": "#506784",
            "ticks": ""
           }
          },
          "scene": {
           "xaxis": {
            "backgroundcolor": "rgb(17,17,17)",
            "gridcolor": "#506784",
            "gridwidth": 2,
            "linecolor": "#506784",
            "showbackground": true,
            "ticks": "",
            "zerolinecolor": "#C8D4E3"
           },
           "yaxis": {
            "backgroundcolor": "rgb(17,17,17)",
            "gridcolor": "#506784",
            "gridwidth": 2,
            "linecolor": "#506784",
            "showbackground": true,
            "ticks": "",
            "zerolinecolor": "#C8D4E3"
           },
           "zaxis": {
            "backgroundcolor": "rgb(17,17,17)",
            "gridcolor": "#506784",
            "gridwidth": 2,
            "linecolor": "#506784",
            "showbackground": true,
            "ticks": "",
            "zerolinecolor": "#C8D4E3"
           }
          },
          "shapedefaults": {
           "line": {
            "color": "#f2f5fa"
           }
          },
          "sliderdefaults": {
           "bgcolor": "#C8D4E3",
           "bordercolor": "rgb(17,17,17)",
           "borderwidth": 1,
           "tickwidth": 0
          },
          "ternary": {
           "aaxis": {
            "gridcolor": "#506784",
            "linecolor": "#506784",
            "ticks": ""
           },
           "baxis": {
            "gridcolor": "#506784",
            "linecolor": "#506784",
            "ticks": ""
           },
           "bgcolor": "rgb(17,17,17)",
           "caxis": {
            "gridcolor": "#506784",
            "linecolor": "#506784",
            "ticks": ""
           }
          },
          "title": {
           "x": 0.05
          },
          "updatemenudefaults": {
           "bgcolor": "#506784",
           "borderwidth": 0
          },
          "xaxis": {
           "automargin": true,
           "gridcolor": "#283442",
           "linecolor": "#506784",
           "ticks": "",
           "title": {
            "standoff": 15
           },
           "zerolinecolor": "#283442",
           "zerolinewidth": 2
          },
          "yaxis": {
           "automargin": true,
           "gridcolor": "#283442",
           "linecolor": "#506784",
           "ticks": "",
           "title": {
            "standoff": 15
           },
           "zerolinecolor": "#283442",
           "zerolinewidth": 2
          }
         }
        },
        "title": {
         "text": "distribution of comments"
        },
        "xaxis": {
         "anchor": "y",
         "domain": [
          0,
          1
         ],
         "title": {
          "text": "comments"
         }
        },
        "yaxis": {
         "anchor": "x",
         "domain": [
          0,
          1
         ],
         "title": {
          "text": "count"
         }
        }
       }
      }
     },
     "metadata": {},
     "output_type": "display_data"
    },
    {
     "data": {
      "text/markdown": [
       "**comments:** mean=13.13, median=0.00, mode=0. "
      ],
      "text/plain": [
       "<IPython.core.display.Markdown object>"
      ]
     },
     "metadata": {},
     "output_type": "display_data"
    },
    {
     "data": {
      "application/vnd.plotly.v1+json": {
       "config": {
        "plotlyServerURL": "https://plot.ly"
       },
       "data": [
        {
         "bingroup": "x",
         "hovertemplate": "session_time_normal=%{x}<br>count=%{y}<extra></extra>",
         "legendgroup": "",
         "marker": {
          "color": "#00CC96",
          "opacity": 0.5,
          "pattern": {
           "shape": ""
          }
         },
         "name": "",
         "orientation": "v",
         "showlegend": false,
         "type": "histogram",
         "x": {
          "bdata": "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",
          "dtype": "f8"
         },
         "xaxis": "x",
         "yaxis": "y"
        }
       ],
       "layout": {
        "annotations": [
         {
          "showarrow": false,
          "text": "Mean: 30.16",
          "x": 30.160004179379175,
          "xanchor": "left",
          "xref": "x",
          "y": 1,
          "yanchor": "top",
          "yref": "y domain"
         },
         {
          "showarrow": false,
          "text": "Mode: 13.79",
          "x": 13.793663299654638,
          "xanchor": "right",
          "xref": "x",
          "y": 1,
          "yanchor": "top",
          "yref": "y domain"
         },
         {
          "showarrow": false,
          "text": "Median: 30.12",
          "x": 30.121824077329254,
          "xanchor": "right",
          "xref": "x",
          "y": 0,
          "yanchor": "bottom",
          "yref": "y domain"
         }
        ],
        "barmode": "overlay",
        "legend": {
         "tracegroupgap": 0
        },
        "shapes": [
         {
          "line": {
           "color": "cyan",
           "dash": "dash",
           "width": 2
          },
          "type": "line",
          "x0": 30.160004179379175,
          "x1": 30.160004179379175,
          "xref": "x",
          "y0": 0,
          "y1": 1,
          "yref": "y domain"
         },
         {
          "line": {
           "color": "pink",
           "dash": "dash"
          },
          "type": "line",
          "x0": 13.793663299654638,
          "x1": 13.793663299654638,
          "xref": "x",
          "y0": 0,
          "y1": 1,
          "yref": "y domain"
         },
         {
          "line": {
           "color": "yellow",
           "dash": "dash"
          },
          "type": "line",
          "x0": 30.121824077329254,
          "x1": 30.121824077329254,
          "xref": "x",
          "y0": 0,
          "y1": 1,
          "yref": "y domain"
         }
        ],
        "template": {
         "data": {
          "bar": [
           {
            "error_x": {
             "color": "#f2f5fa"
            },
            "error_y": {
             "color": "#f2f5fa"
            },
            "marker": {
             "line": {
              "color": "rgb(17,17,17)",
              "width": 0.5
             },
             "pattern": {
              "fillmode": "overlay",
              "size": 10,
              "solidity": 0.2
             }
            },
            "type": "bar"
           }
          ],
          "barpolar": [
           {
            "marker": {
             "line": {
              "color": "rgb(17,17,17)",
              "width": 0.5
             },
             "pattern": {
              "fillmode": "overlay",
              "size": 10,
              "solidity": 0.2
             }
            },
            "type": "barpolar"
           }
          ],
          "carpet": [
           {
            "aaxis": {
             "endlinecolor": "#A2B1C6",
             "gridcolor": "#506784",
             "linecolor": "#506784",
             "minorgridcolor": "#506784",
             "startlinecolor": "#A2B1C6"
            },
            "baxis": {
             "endlinecolor": "#A2B1C6",
             "gridcolor": "#506784",
             "linecolor": "#506784",
             "minorgridcolor": "#506784",
             "startlinecolor": "#A2B1C6"
            },
            "type": "carpet"
           }
          ],
          "choropleth": [
           {
            "colorbar": {
             "outlinewidth": 0,
             "ticks": ""
            },
            "type": "choropleth"
           }
          ],
          "contour": [
           {
            "colorbar": {
             "outlinewidth": 0,
             "ticks": ""
            },
            "colorscale": [
             [
              0,
              "#0d0887"
             ],
             [
              0.1111111111111111,
              "#46039f"
             ],
             [
              0.2222222222222222,
              "#7201a8"
             ],
             [
              0.3333333333333333,
              "#9c179e"
             ],
             [
              0.4444444444444444,
              "#bd3786"
             ],
             [
              0.5555555555555556,
              "#d8576b"
             ],
             [
              0.6666666666666666,
              "#ed7953"
             ],
             [
              0.7777777777777778,
              "#fb9f3a"
             ],
             [
              0.8888888888888888,
              "#fdca26"
             ],
             [
              1,
              "#f0f921"
             ]
            ],
            "type": "contour"
           }
          ],
          "contourcarpet": [
           {
            "colorbar": {
             "outlinewidth": 0,
             "ticks": ""
            },
            "type": "contourcarpet"
           }
          ],
          "heatmap": [
           {
            "colorbar": {
             "outlinewidth": 0,
             "ticks": ""
            },
            "colorscale": [
             [
              0,
              "#0d0887"
             ],
             [
              0.1111111111111111,
              "#46039f"
             ],
             [
              0.2222222222222222,
              "#7201a8"
             ],
             [
              0.3333333333333333,
              "#9c179e"
             ],
             [
              0.4444444444444444,
              "#bd3786"
             ],
             [
              0.5555555555555556,
              "#d8576b"
             ],
             [
              0.6666666666666666,
              "#ed7953"
             ],
             [
              0.7777777777777778,
              "#fb9f3a"
             ],
             [
              0.8888888888888888,
              "#fdca26"
             ],
             [
              1,
              "#f0f921"
             ]
            ],
            "type": "heatmap"
           }
          ],
          "histogram": [
           {
            "marker": {
             "pattern": {
              "fillmode": "overlay",
              "size": 10,
              "solidity": 0.2
             }
            },
            "type": "histogram"
           }
          ],
          "histogram2d": [
           {
            "colorbar": {
             "outlinewidth": 0,
             "ticks": ""
            },
            "colorscale": [
             [
              0,
              "#0d0887"
             ],
             [
              0.1111111111111111,
              "#46039f"
             ],
             [
              0.2222222222222222,
              "#7201a8"
             ],
             [
              0.3333333333333333,
              "#9c179e"
             ],
             [
              0.4444444444444444,
              "#bd3786"
             ],
             [
              0.5555555555555556,
              "#d8576b"
             ],
             [
              0.6666666666666666,
              "#ed7953"
             ],
             [
              0.7777777777777778,
              "#fb9f3a"
             ],
             [
              0.8888888888888888,
              "#fdca26"
             ],
             [
              1,
              "#f0f921"
             ]
            ],
            "type": "histogram2d"
           }
          ],
          "histogram2dcontour": [
           {
            "colorbar": {
             "outlinewidth": 0,
             "ticks": ""
            },
            "colorscale": [
             [
              0,
              "#0d0887"
             ],
             [
              0.1111111111111111,
              "#46039f"
             ],
             [
              0.2222222222222222,
              "#7201a8"
             ],
             [
              0.3333333333333333,
              "#9c179e"
             ],
             [
              0.4444444444444444,
              "#bd3786"
             ],
             [
              0.5555555555555556,
              "#d8576b"
             ],
             [
              0.6666666666666666,
              "#ed7953"
             ],
             [
              0.7777777777777778,
              "#fb9f3a"
             ],
             [
              0.8888888888888888,
              "#fdca26"
             ],
             [
              1,
              "#f0f921"
             ]
            ],
            "type": "histogram2dcontour"
           }
          ],
          "mesh3d": [
           {
            "colorbar": {
             "outlinewidth": 0,
             "ticks": ""
            },
            "type": "mesh3d"
           }
          ],
          "parcoords": [
           {
            "line": {
             "colorbar": {
              "outlinewidth": 0,
              "ticks": ""
             }
            },
            "type": "parcoords"
           }
          ],
          "pie": [
           {
            "automargin": true,
            "type": "pie"
           }
          ],
          "scatter": [
           {
            "marker": {
             "line": {
              "color": "#283442"
             }
            },
            "type": "scatter"
           }
          ],
          "scatter3d": [
           {
            "line": {
             "colorbar": {
              "outlinewidth": 0,
              "ticks": ""
             }
            },
            "marker": {
             "colorbar": {
              "outlinewidth": 0,
              "ticks": ""
             }
            },
            "type": "scatter3d"
           }
          ],
          "scattercarpet": [
           {
            "marker": {
             "colorbar": {
              "outlinewidth": 0,
              "ticks": ""
             }
            },
            "type": "scattercarpet"
           }
          ],
          "scattergeo": [
           {
            "marker": {
             "colorbar": {
              "outlinewidth": 0,
              "ticks": ""
             }
            },
            "type": "scattergeo"
           }
          ],
          "scattergl": [
           {
            "marker": {
             "line": {
              "color": "#283442"
             }
            },
            "type": "scattergl"
           }
          ],
          "scattermap": [
           {
            "marker": {
             "colorbar": {
              "outlinewidth": 0,
              "ticks": ""
             }
            },
            "type": "scattermap"
           }
          ],
          "scattermapbox": [
           {
            "marker": {
             "colorbar": {
              "outlinewidth": 0,
              "ticks": ""
             }
            },
            "type": "scattermapbox"
           }
          ],
          "scatterpolar": [
           {
            "marker": {
             "colorbar": {
              "outlinewidth": 0,
              "ticks": ""
             }
            },
            "type": "scatterpolar"
           }
          ],
          "scatterpolargl": [
           {
            "marker": {
             "colorbar": {
              "outlinewidth": 0,
              "ticks": ""
             }
            },
            "type": "scatterpolargl"
           }
          ],
          "scatterternary": [
           {
            "marker": {
             "colorbar": {
              "outlinewidth": 0,
              "ticks": ""
             }
            },
            "type": "scatterternary"
           }
          ],
          "surface": [
           {
            "colorbar": {
             "outlinewidth": 0,
             "ticks": ""
            },
            "colorscale": [
             [
              0,
              "#0d0887"
             ],
             [
              0.1111111111111111,
              "#46039f"
             ],
             [
              0.2222222222222222,
              "#7201a8"
             ],
             [
              0.3333333333333333,
              "#9c179e"
             ],
             [
              0.4444444444444444,
              "#bd3786"
             ],
             [
              0.5555555555555556,
              "#d8576b"
             ],
             [
              0.6666666666666666,
              "#ed7953"
             ],
             [
              0.7777777777777778,
              "#fb9f3a"
             ],
             [
              0.8888888888888888,
              "#fdca26"
             ],
             [
              1,
              "#f0f921"
             ]
            ],
            "type": "surface"
           }
          ],
          "table": [
           {
            "cells": {
             "fill": {
              "color": "#506784"
             },
             "line": {
              "color": "rgb(17,17,17)"
             }
            },
            "header": {
             "fill": {
              "color": "#2a3f5f"
             },
             "line": {
              "color": "rgb(17,17,17)"
             }
            },
            "type": "table"
           }
          ]
         },
         "layout": {
          "annotationdefaults": {
           "arrowcolor": "#f2f5fa",
           "arrowhead": 0,
           "arrowwidth": 1
          },
          "autotypenumbers": "strict",
          "coloraxis": {
           "colorbar": {
            "outlinewidth": 0,
            "ticks": ""
           }
          },
          "colorscale": {
           "diverging": [
            [
             0,
             "#8e0152"
            ],
            [
             0.1,
             "#c51b7d"
            ],
            [
             0.2,
             "#de77ae"
            ],
            [
             0.3,
             "#f1b6da"
            ],
            [
             0.4,
             "#fde0ef"
            ],
            [
             0.5,
             "#f7f7f7"
            ],
            [
             0.6,
             "#e6f5d0"
            ],
            [
             0.7,
             "#b8e186"
            ],
            [
             0.8,
             "#7fbc41"
            ],
            [
             0.9,
             "#4d9221"
            ],
            [
             1,
             "#276419"
            ]
           ],
           "sequential": [
            [
             0,
             "#0d0887"
            ],
            [
             0.1111111111111111,
             "#46039f"
            ],
            [
             0.2222222222222222,
             "#7201a8"
            ],
            [
             0.3333333333333333,
             "#9c179e"
            ],
            [
             0.4444444444444444,
             "#bd3786"
            ],
            [
             0.5555555555555556,
             "#d8576b"
            ],
            [
             0.6666666666666666,
             "#ed7953"
            ],
            [
             0.7777777777777778,
             "#fb9f3a"
            ],
            [
             0.8888888888888888,
             "#fdca26"
            ],
            [
             1,
             "#f0f921"
            ]
           ],
           "sequentialminus": [
            [
             0,
             "#0d0887"
            ],
            [
             0.1111111111111111,
             "#46039f"
            ],
            [
             0.2222222222222222,
             "#7201a8"
            ],
            [
             0.3333333333333333,
             "#9c179e"
            ],
            [
             0.4444444444444444,
             "#bd3786"
            ],
            [
             0.5555555555555556,
             "#d8576b"
            ],
            [
             0.6666666666666666,
             "#ed7953"
            ],
            [
             0.7777777777777778,
             "#fb9f3a"
            ],
            [
             0.8888888888888888,
             "#fdca26"
            ],
            [
             1,
             "#f0f921"
            ]
           ]
          },
          "colorway": [
           "#636efa",
           "#EF553B",
           "#00cc96",
           "#ab63fa",
           "#FFA15A",
           "#19d3f3",
           "#FF6692",
           "#B6E880",
           "#FF97FF",
           "#FECB52"
          ],
          "font": {
           "color": "#f2f5fa"
          },
          "geo": {
           "bgcolor": "rgb(17,17,17)",
           "lakecolor": "rgb(17,17,17)",
           "landcolor": "rgb(17,17,17)",
           "showlakes": true,
           "showland": true,
           "subunitcolor": "#506784"
          },
          "hoverlabel": {
           "align": "left"
          },
          "hovermode": "closest",
          "mapbox": {
           "style": "dark"
          },
          "paper_bgcolor": "rgb(17,17,17)",
          "plot_bgcolor": "rgb(17,17,17)",
          "polar": {
           "angularaxis": {
            "gridcolor": "#506784",
            "linecolor": "#506784",
            "ticks": ""
           },
           "bgcolor": "rgb(17,17,17)",
           "radialaxis": {
            "gridcolor": "#506784",
            "linecolor": "#506784",
            "ticks": ""
           }
          },
          "scene": {
           "xaxis": {
            "backgroundcolor": "rgb(17,17,17)",
            "gridcolor": "#506784",
            "gridwidth": 2,
            "linecolor": "#506784",
            "showbackground": true,
            "ticks": "",
            "zerolinecolor": "#C8D4E3"
           },
           "yaxis": {
            "backgroundcolor": "rgb(17,17,17)",
            "gridcolor": "#506784",
            "gridwidth": 2,
            "linecolor": "#506784",
            "showbackground": true,
            "ticks": "",
            "zerolinecolor": "#C8D4E3"
           },
           "zaxis": {
            "backgroundcolor": "rgb(17,17,17)",
            "gridcolor": "#506784",
            "gridwidth": 2,
            "linecolor": "#506784",
            "showbackground": true,
            "ticks": "",
            "zerolinecolor": "#C8D4E3"
           }
          },
          "shapedefaults": {
           "line": {
            "color": "#f2f5fa"
           }
          },
          "sliderdefaults": {
           "bgcolor": "#C8D4E3",
           "bordercolor": "rgb(17,17,17)",
           "borderwidth": 1,
           "tickwidth": 0
          },
          "ternary": {
           "aaxis": {
            "gridcolor": "#506784",
            "linecolor": "#506784",
            "ticks": ""
           },
           "baxis": {
            "gridcolor": "#506784",
            "linecolor": "#506784",
            "ticks": ""
           },
           "bgcolor": "rgb(17,17,17)",
           "caxis": {
            "gridcolor": "#506784",
            "linecolor": "#506784",
            "ticks": ""
           }
          },
          "title": {
           "x": 0.05
          },
          "updatemenudefaults": {
           "bgcolor": "#506784",
           "borderwidth": 0
          },
          "xaxis": {
           "automargin": true,
           "gridcolor": "#283442",
           "linecolor": "#506784",
           "ticks": "",
           "title": {
            "standoff": 15
           },
           "zerolinecolor": "#283442",
           "zerolinewidth": 2
          },
          "yaxis": {
           "automargin": true,
           "gridcolor": "#283442",
           "linecolor": "#506784",
           "ticks": "",
           "title": {
            "standoff": 15
           },
           "zerolinecolor": "#283442",
           "zerolinewidth": 2
          }
         }
        },
        "title": {
         "text": "Distribution of session time (time spent in one session in secods)"
        },
        "xaxis": {
         "anchor": "y",
         "domain": [
          0,
          1
         ],
         "title": {
          "text": "session_time_normal"
         }
        },
        "yaxis": {
         "anchor": "x",
         "domain": [
          0,
          1
         ],
         "title": {
          "text": "count"
         }
        }
       }
      }
     },
     "metadata": {},
     "output_type": "display_data"
    },
    {
     "data": {
      "text/markdown": [
       "**session_time_normal:** mean=30.16, median=30.12, mode=13.793663299654638. "
      ],
      "text/plain": [
       "<IPython.core.display.Markdown object>"
      ]
     },
     "metadata": {},
     "output_type": "display_data"
    }
   ],
   "source": [
    "# Define a function to create interactive histograms with statistical markers\n",
    "def plot_histos(df, column='likes', title='title'):\n",
    "    # Remove rows with missing values in the specified column\n",
    "    df = df.dropna(subset=column)\n",
    "    # Calculate key statistical measures\n",
    "    mean_val = df[column].mean()  # Average value\n",
    "    mode_val = df[column].mode()[0]  # Most frequent value\n",
    "    median_val = df[column].median()  # Middle value\n",
    "\n",
    "    # Create interactive histogram using plotly\n",
    "    fig = px.histogram(df, x=column, template='plotly_dark', color_discrete_sequence=['#00CC96'], \n",
    "                       barmode='overlay',\n",
    "                       title=title)\n",
    "\n",
    "    # Add vertical line for mean with cyan color and dashed style\n",
    "    fig.add_vline(x=mean_val, line_width=2, line_dash=\"dash\", line_color=\"cyan\",\n",
    "                    annotation_text=f\"Mean: {mean_val:.2f}\", annotation_position=\"top right\")\n",
    "        \n",
    "    # Add vertical line for mode with pink color and dashed style\n",
    "    fig.add_vline(x=mode_val, line_dash=\"dash\", line_color=\"pink\",\n",
    "                    annotation_text=f\"Mode: {mode_val:.2f}\", annotation_position=\"top left\")\n",
    "        \n",
    "    # Add vertical line for median with yellow color and dashed style\n",
    "    fig.add_vline(x=median_val, line_dash=\"dash\", line_color=\"yellow\", \n",
    "                    annotation_text=f\"Median: {median_val:.2f}\", annotation_position=\"bottom left\")\n",
    "    fig.show()\n",
    "    # Display summary statistics in markdown format\n",
    "    display(Markdown(f\"**{column}:** mean={mean_val:.2f}, median={median_val:.2f}, mode={mode_val}. \"))\n",
    "\n",
    "# Create histograms for comments and session time with statistical overlays\n",
    "plot_histos(df, 'comments', title='distribution of comments')\n",
    "plot_histos(df, 'session_time_normal', title='Distribution of session time (time spent in one session in secods)')"
   ]
  },
  {
   "cell_type": "code",
   "execution_count": 14,
   "id": "5d81ba7c",
   "metadata": {},
   "outputs": [
    {
     "data": {
      "text/html": [
       "<div>\n",
       "<style scoped>\n",
       "    .dataframe tbody tr th:only-of-type {\n",
       "        vertical-align: middle;\n",
       "    }\n",
       "\n",
       "    .dataframe tbody tr th {\n",
       "        vertical-align: top;\n",
       "    }\n",
       "\n",
       "    .dataframe thead th {\n",
       "        text-align: right;\n",
       "    }\n",
       "</style>\n",
       "<table border=\"1\" class=\"dataframe\">\n",
       "  <thead>\n",
       "    <tr style=\"text-align: right;\">\n",
       "      <th></th>\n",
       "      <th>post_id</th>\n",
       "      <th>user_id</th>\n",
       "      <th>post_time</th>\n",
       "      <th>post_hour</th>\n",
       "      <th>post_type</th>\n",
       "      <th>paid_boost</th>\n",
       "      <th>hashtags_count</th>\n",
       "      <th>followers_at_post</th>\n",
       "      <th>views</th>\n",
       "      <th>likes</th>\n",
       "      <th>clicks</th>\n",
       "      <th>comments</th>\n",
       "      <th>shares</th>\n",
       "      <th>watch_time_total_sec</th>\n",
       "      <th>like_rate</th>\n",
       "      <th>click_through_rate</th>\n",
       "      <th>comment_rate</th>\n",
       "      <th>session_time_normal</th>\n",
       "      <th>clicks_binomial</th>\n",
       "    </tr>\n",
       "  </thead>\n",
       "  <tbody>\n",
       "    <tr>\n",
       "      <th>0</th>\n",
       "      <td>1</td>\n",
       "      <td>186</td>\n",
       "      <td>2025-06-12 03:23:46.951695</td>\n",
       "      <td>3</td>\n",
       "      <td>text</td>\n",
       "      <td>0</td>\n",
       "      <td>0</td>\n",
       "      <td>22828</td>\n",
       "      <td>23112</td>\n",
       "      <td>198</td>\n",
       "      <td>96</td>\n",
       "      <td>35</td>\n",
       "      <td>15</td>\n",
       "      <td>10889</td>\n",
       "      <td>0.008567</td>\n",
       "      <td>0.004154</td>\n",
       "      <td>0.001514</td>\n",
       "      <td>32.483571</td>\n",
       "      <td>4</td>\n",
       "    </tr>\n",
       "    <tr>\n",
       "      <th>1</th>\n",
       "      <td>2</td>\n",
       "      <td>273</td>\n",
       "      <td>2025-07-27 10:40:21.951695</td>\n",
       "      <td>10</td>\n",
       "      <td>image</td>\n",
       "      <td>0</td>\n",
       "      <td>5</td>\n",
       "      <td>4459</td>\n",
       "      <td>2893</td>\n",
       "      <td>148</td>\n",
       "      <td>29</td>\n",
       "      <td>5</td>\n",
       "      <td>6</td>\n",
       "      <td>1835</td>\n",
       "      <td>0.051158</td>\n",
       "      <td>0.010024</td>\n",
       "      <td>0.001728</td>\n",
       "      <td>29.308678</td>\n",
       "      <td>6</td>\n",
       "    </tr>\n",
       "    <tr>\n",
       "      <th>2</th>\n",
       "      <td>3</td>\n",
       "      <td>80</td>\n",
       "      <td>2025-08-25 13:23:31.951695</td>\n",
       "      <td>13</td>\n",
       "      <td>video</td>\n",
       "      <td>0</td>\n",
       "      <td>2</td>\n",
       "      <td>3607</td>\n",
       "      <td>5644</td>\n",
       "      <td>285</td>\n",
       "      <td>56</td>\n",
       "      <td>0</td>\n",
       "      <td>17</td>\n",
       "      <td>149281</td>\n",
       "      <td>0.050496</td>\n",
       "      <td>0.009922</td>\n",
       "      <td>0.000000</td>\n",
       "      <td>33.238443</td>\n",
       "      <td>2</td>\n",
       "    </tr>\n",
       "    <tr>\n",
       "      <th>3</th>\n",
       "      <td>4</td>\n",
       "      <td>310</td>\n",
       "      <td>2025-08-16 12:44:40.951695</td>\n",
       "      <td>12</td>\n",
       "      <td>link</td>\n",
       "      <td>0</td>\n",
       "      <td>3</td>\n",
       "      <td>27786</td>\n",
       "      <td>10885</td>\n",
       "      <td>164</td>\n",
       "      <td>135</td>\n",
       "      <td>17</td>\n",
       "      <td>3</td>\n",
       "      <td>1236</td>\n",
       "      <td>0.015067</td>\n",
       "      <td>0.012402</td>\n",
       "      <td>0.001562</td>\n",
       "      <td>37.615149</td>\n",
       "      <td>6</td>\n",
       "    </tr>\n",
       "    <tr>\n",
       "      <th>4</th>\n",
       "      <td>5</td>\n",
       "      <td>131</td>\n",
       "      <td>2025-06-27 09:38:41.951695</td>\n",
       "      <td>9</td>\n",
       "      <td>video</td>\n",
       "      <td>0</td>\n",
       "      <td>4</td>\n",
       "      <td>3328</td>\n",
       "      <td>2974</td>\n",
       "      <td>163</td>\n",
       "      <td>58</td>\n",
       "      <td>0</td>\n",
       "      <td>8</td>\n",
       "      <td>193917</td>\n",
       "      <td>0.054808</td>\n",
       "      <td>0.019502</td>\n",
       "      <td>0.000000</td>\n",
       "      <td>28.829233</td>\n",
       "      <td>3</td>\n",
       "    </tr>\n",
       "  </tbody>\n",
       "</table>\n",
       "</div>"
      ],
      "text/plain": [
       "   post_id  user_id                   post_time  post_hour post_type  \\\n",
       "0        1      186  2025-06-12 03:23:46.951695          3      text   \n",
       "1        2      273  2025-07-27 10:40:21.951695         10     image   \n",
       "2        3       80  2025-08-25 13:23:31.951695         13     video   \n",
       "3        4      310  2025-08-16 12:44:40.951695         12      link   \n",
       "4        5      131  2025-06-27 09:38:41.951695          9     video   \n",
       "\n",
       "   paid_boost  hashtags_count  followers_at_post  views  likes  clicks  \\\n",
       "0           0               0              22828  23112    198      96   \n",
       "1           0               5               4459   2893    148      29   \n",
       "2           0               2               3607   5644    285      56   \n",
       "3           0               3              27786  10885    164     135   \n",
       "4           0               4               3328   2974    163      58   \n",
       "\n",
       "   comments  shares  watch_time_total_sec  like_rate  click_through_rate  \\\n",
       "0        35      15                 10889   0.008567            0.004154   \n",
       "1         5       6                  1835   0.051158            0.010024   \n",
       "2         0      17                149281   0.050496            0.009922   \n",
       "3        17       3                  1236   0.015067            0.012402   \n",
       "4         0       8                193917   0.054808            0.019502   \n",
       "\n",
       "   comment_rate  session_time_normal  clicks_binomial  \n",
       "0      0.001514            32.483571                4  \n",
       "1      0.001728            29.308678                6  \n",
       "2      0.000000            33.238443                2  \n",
       "3      0.001562            37.615149                6  \n",
       "4      0.000000            28.829233                3  "
      ]
     },
     "execution_count": 14,
     "metadata": {},
     "output_type": "execute_result"
    }
   ],
   "source": [
    "df.head()"
   ]
  },
  {
   "cell_type": "code",
   "execution_count": null,
   "id": "1a0b6b0a",
   "metadata": {},
   "outputs": [
    {
     "data": {
      "text/html": [
       "<div>\n",
       "<style scoped>\n",
       "    .dataframe tbody tr th:only-of-type {\n",
       "        vertical-align: middle;\n",
       "    }\n",
       "\n",
       "    .dataframe tbody tr th {\n",
       "        vertical-align: top;\n",
       "    }\n",
       "\n",
       "    .dataframe thead th {\n",
       "        text-align: right;\n",
       "    }\n",
       "</style>\n",
       "<table border=\"1\" class=\"dataframe\">\n",
       "  <thead>\n",
       "    <tr style=\"text-align: right;\">\n",
       "      <th></th>\n",
       "      <th>count</th>\n",
       "      <th>mean</th>\n",
       "      <th>std</th>\n",
       "      <th>min</th>\n",
       "      <th>25%</th>\n",
       "      <th>50%</th>\n",
       "      <th>75%</th>\n",
       "      <th>90%</th>\n",
       "      <th>95%</th>\n",
       "      <th>max</th>\n",
       "    </tr>\n",
       "  </thead>\n",
       "  <tbody>\n",
       "    <tr>\n",
       "      <th>post_hour</th>\n",
       "      <td>3000.0</td>\n",
       "      <td>11.535667</td>\n",
       "      <td>6.933500</td>\n",
       "      <td>0.0</td>\n",
       "      <td>5.75</td>\n",
       "      <td>12.0</td>\n",
       "      <td>17.00</td>\n",
       "      <td>21.0</td>\n",
       "      <td>22.00</td>\n",
       "      <td>23.0</td>\n",
       "    </tr>\n",
       "    <tr>\n",
       "      <th>followers_at_post</th>\n",
       "      <td>3000.0</td>\n",
       "      <td>8140.370333</td>\n",
       "      <td>10840.673985</td>\n",
       "      <td>377.0</td>\n",
       "      <td>2553.75</td>\n",
       "      <td>4976.0</td>\n",
       "      <td>9275.00</td>\n",
       "      <td>18019.0</td>\n",
       "      <td>27467.00</td>\n",
       "      <td>90568.0</td>\n",
       "    </tr>\n",
       "    <tr>\n",
       "      <th>views</th>\n",
       "      <td>3000.0</td>\n",
       "      <td>11301.972333</td>\n",
       "      <td>20531.608058</td>\n",
       "      <td>62.0</td>\n",
       "      <td>1963.50</td>\n",
       "      <td>4981.5</td>\n",
       "      <td>11819.25</td>\n",
       "      <td>26784.7</td>\n",
       "      <td>41857.05</td>\n",
       "      <td>310672.0</td>\n",
       "    </tr>\n",
       "  </tbody>\n",
       "</table>\n",
       "</div>"
      ],
      "text/plain": [
       "                    count          mean           std    min      25%     50%  \\\n",
       "post_hour          3000.0     11.535667      6.933500    0.0     5.75    12.0   \n",
       "followers_at_post  3000.0   8140.370333  10840.673985  377.0  2553.75  4976.0   \n",
       "views              3000.0  11301.972333  20531.608058   62.0  1963.50  4981.5   \n",
       "\n",
       "                        75%      90%       95%       max  \n",
       "post_hour             17.00     21.0     22.00      23.0  \n",
       "followers_at_post   9275.00  18019.0  27467.00   90568.0  \n",
       "views              11819.25  26784.7  41857.05  310672.0  "
      ]
     },
     "execution_count": 15,
     "metadata": {},
     "output_type": "execute_result"
    }
   ],
   "source": [
    "# Select specific metrics for detailed statistical analysis\n",
    "metrics = [\"post_hour\", \"followers_at_post\", \"views\"]\n",
    "# Generate comprehensive descriptive statistics including custom percentiles\n",
    "desc = df[metrics].describe(percentiles=[0.25, 0.5, 0.75, 0.9, 0.95]).T\n",
    "# Display the transposed statistics table for better readability\n",
    "desc\n"
   ]
  },
  {
   "cell_type": "markdown",
   "id": "885bfa67",
   "metadata": {},
   "source": [
    "## 3) Distributions in Practice\n",
    "### Types of Distributions\n",
    "#### Normal Distribution\n",
    "- Bell curve, symmetrical, \"peak\" of the curve is the mean, median, and mode\n",
    "- If nature had a default setting, it would be the normal distribution\n",
    "- **Central Limit Theoreom** tldr: If you take enough samples of something, the distribution of the means will be normal\n",
    "    - This means if the more samples/data we have, the closer our sample distribution will be to the true population mean\n",
    "    - More samples = More accurate numbers\n",
    "#### Binomial Distribution\n",
    "- Yes/No machine, mainly counting the frequency of yes\n",
    "- Probability of a yes\n",
    "#### Poisson Distribution\n",
    "- Probability that some event will happen within a given amount of time(or space)\n",
    "- Ex: Number of natural disasters happening in the next 6 months, Number of calls a call center recieves in the next 30 minutes"
   ]
  },
  {
   "cell_type": "markdown",
   "id": "f7577382",
   "metadata": {},
   "source": [
    "\n",
    "\n",
    "**Tasks**\n",
    "- Treat `purchases` as count data (Poisson-ish). Plot its distribution.\n",
    "- Explore `sessions` distribution; check if long-tailed.\n",
    "- (Optional) CLT demo: sample means of `revenue`.\n",
    "\n",
    "> *Why?* Picking reasonable distributional assumptions clarifies which tests and intervals are valid."
   ]
  },
  {
   "cell_type": "code",
   "execution_count": null,
   "id": "0f21b099",
   "metadata": {},
   "outputs": [],
   "source": [
    "\n",
    "# # (Optional) CLT demo: sample means of revenue\n",
    "# rng = np.random.default_rng(0)\n",
    "# means = [rng.choice(df[\"revenue\"].values, size=200, replace=True).mean() for _ in range(2000)]\n",
    "# fig, ax = plt.subplots()\n",
    "# ax.hist(means, bins=40)\n",
    "# ax.set_title(\"Sampling Distribution of Mean Revenue (Bootstrap/CLT intuition)\")\n",
    "# plt.show()"
   ]
  },
  {
   "cell_type": "markdown",
   "id": "2cfc7f1d",
   "metadata": {},
   "source": [
    "## 4) Sampling & Confidence Intervals\n",
    "### **Sampling**\n",
    "Sampling is selecting a portion of a larger group, called a population, to study instead of collecting data from every individual\n",
    "#### Random Sampling\n",
    "Like drawing names from a hat, every person has equal chance of being picked.\n",
    "- You want this when your goal is to make inferences about the larger population―a.k.a. generalizability.\n",
    "- You do not want this when you need specialists (e.g., “How DS use Python”).\n",
    "- Random sampling can be extremely time-consuming and/or expensive. That’s why researchers can fall into the trap of accidental biased sampling!\n",
    "#### Biased Sampling\n",
    "Those with particular traits are picked but we want to make predictions of the *whole* population, not just the ones with a particular trait.\n",
    "- Convenience Bias: Sampling based on participant availability or accessibility.\n",
    "    - Only calling people during daytime hours (misses working professionals)\n",
    "- Self Selection Bias: When voluntary responses are due to surveyees having strong opinions.\n",
    "    - Reviews on yelp where customers are mostly upset or mostly really satisfied with their service (misses customers without strong opinion)\n",
    "- Survivor Bias: Sample focuses only on those who passed a certain selection process while ignoring those who did not\n",
    "    - Bill Gates, Steve Jobs, and Mark Zuckerberg dropped out of college and became wildly successful to make a conclusion of the impact of college/dropping out (misses out on majority of cases where a person did not become extremely successful after dropping out of college)\n",
    "### Confidence Interval\n",
    "It tells you something like: “we're 95% sure the true answer is somewhere in this range.”\n",
    "A wider interval mean more uncertainty. A narrower interval means more precision.\n",
    "#### Margin of Error\n",
    "This is the “plus-or-minus reality check” or ±3% you see in every poll.\n",
    "They are like the error radius on your GPS. The more satellites your phone can get a signal from, the smaller its error radius is when showing you your location.\n",
    "Confidence Interval = 2x Margin of Error\n",
    "\n"
   ]
  },
  {
   "cell_type": "markdown",
   "id": "21d2089e",
   "metadata": {},
   "source": [
    "### Bootstrapping\n",
    "Most of the time, we cannot get multiple samples of our population. Instead, we bootstrap. Bootstrapping is when we have one sample/set of data, and we randomly sample the same data multiple times and examen the means and variance of our bootstrapped samples.\n",
    "\n",
    "**Task**\n",
    "- Build a 95% CI for mean `revenue`. Repeat per `region`.\n",
    "\n",
    "> *Why?* Quantify uncertainty around your estimates."
   ]
  },
  {
   "cell_type": "code",
   "execution_count": null,
   "id": "67798b8c",
   "metadata": {},
   "outputs": [
    {
     "data": {
      "application/vnd.plotly.v1+json": {
       "config": {
        "plotlyServerURL": "https://plot.ly"
       },
       "data": [
        {
         "bingroup": "x",
         "hovertemplate": "variable=0<br>value=%{x}<br>count=%{y}<extra></extra>",
         "legendgroup": "0",
         "marker": {
          "color": "#636efa",
          "pattern": {
           "shape": ""
          }
         },
         "name": "0",
         "orientation": "v",
         "showlegend": true,
         "type": "histogram",
         "x": {
          "bdata": "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",
          "dtype": "f8"
         },
         "xaxis": "x",
         "yaxis": "y"
        }
       ],
       "layout": {
        "barmode": "relative",
        "legend": {
         "title": {
          "text": "variable"
         },
         "tracegroupgap": 0
        },
        "margin": {
         "t": 60
        },
        "template": {
         "data": {
          "bar": [
           {
            "error_x": {
             "color": "#2a3f5f"
            },
            "error_y": {
             "color": "#2a3f5f"
            },
            "marker": {
             "line": {
              "color": "#E5ECF6",
              "width": 0.5
             },
             "pattern": {
              "fillmode": "overlay",
              "size": 10,
              "solidity": 0.2
             }
            },
            "type": "bar"
           }
          ],
          "barpolar": [
           {
            "marker": {
             "line": {
              "color": "#E5ECF6",
              "width": 0.5
             },
             "pattern": {
              "fillmode": "overlay",
              "size": 10,
              "solidity": 0.2
             }
            },
            "type": "barpolar"
           }
          ],
          "carpet": [
           {
            "aaxis": {
             "endlinecolor": "#2a3f5f",
             "gridcolor": "white",
             "linecolor": "white",
             "minorgridcolor": "white",
             "startlinecolor": "#2a3f5f"
            },
            "baxis": {
             "endlinecolor": "#2a3f5f",
             "gridcolor": "white",
             "linecolor": "white",
             "minorgridcolor": "white",
             "startlinecolor": "#2a3f5f"
            },
            "type": "carpet"
           }
          ],
          "choropleth": [
           {
            "colorbar": {
             "outlinewidth": 0,
             "ticks": ""
            },
            "type": "choropleth"
           }
          ],
          "contour": [
           {
            "colorbar": {
             "outlinewidth": 0,
             "ticks": ""
            },
            "colorscale": [
             [
              0,
              "#0d0887"
             ],
             [
              0.1111111111111111,
              "#46039f"
             ],
             [
              0.2222222222222222,
              "#7201a8"
             ],
             [
              0.3333333333333333,
              "#9c179e"
             ],
             [
              0.4444444444444444,
              "#bd3786"
             ],
             [
              0.5555555555555556,
              "#d8576b"
             ],
             [
              0.6666666666666666,
              "#ed7953"
             ],
             [
              0.7777777777777778,
              "#fb9f3a"
             ],
             [
              0.8888888888888888,
              "#fdca26"
             ],
             [
              1,
              "#f0f921"
             ]
            ],
            "type": "contour"
           }
          ],
          "contourcarpet": [
           {
            "colorbar": {
             "outlinewidth": 0,
             "ticks": ""
            },
            "type": "contourcarpet"
           }
          ],
          "heatmap": [
           {
            "colorbar": {
             "outlinewidth": 0,
             "ticks": ""
            },
            "colorscale": [
             [
              0,
              "#0d0887"
             ],
             [
              0.1111111111111111,
              "#46039f"
             ],
             [
              0.2222222222222222,
              "#7201a8"
             ],
             [
              0.3333333333333333,
              "#9c179e"
             ],
             [
              0.4444444444444444,
              "#bd3786"
             ],
             [
              0.5555555555555556,
              "#d8576b"
             ],
             [
              0.6666666666666666,
              "#ed7953"
             ],
             [
              0.7777777777777778,
              "#fb9f3a"
             ],
             [
              0.8888888888888888,
              "#fdca26"
             ],
             [
              1,
              "#f0f921"
             ]
            ],
            "type": "heatmap"
           }
          ],
          "histogram": [
           {
            "marker": {
             "pattern": {
              "fillmode": "overlay",
              "size": 10,
              "solidity": 0.2
             }
            },
            "type": "histogram"
           }
          ],
          "histogram2d": [
           {
            "colorbar": {
             "outlinewidth": 0,
             "ticks": ""
            },
            "colorscale": [
             [
              0,
              "#0d0887"
             ],
             [
              0.1111111111111111,
              "#46039f"
             ],
             [
              0.2222222222222222,
              "#7201a8"
             ],
             [
              0.3333333333333333,
              "#9c179e"
             ],
             [
              0.4444444444444444,
              "#bd3786"
             ],
             [
              0.5555555555555556,
              "#d8576b"
             ],
             [
              0.6666666666666666,
              "#ed7953"
             ],
             [
              0.7777777777777778,
              "#fb9f3a"
             ],
             [
              0.8888888888888888,
              "#fdca26"
             ],
             [
              1,
              "#f0f921"
             ]
            ],
            "type": "histogram2d"
           }
          ],
          "histogram2dcontour": [
           {
            "colorbar": {
             "outlinewidth": 0,
             "ticks": ""
            },
            "colorscale": [
             [
              0,
              "#0d0887"
             ],
             [
              0.1111111111111111,
              "#46039f"
             ],
             [
              0.2222222222222222,
              "#7201a8"
             ],
             [
              0.3333333333333333,
              "#9c179e"
             ],
             [
              0.4444444444444444,
              "#bd3786"
             ],
             [
              0.5555555555555556,
              "#d8576b"
             ],
             [
              0.6666666666666666,
              "#ed7953"
             ],
             [
              0.7777777777777778,
              "#fb9f3a"
             ],
             [
              0.8888888888888888,
              "#fdca26"
             ],
             [
              1,
              "#f0f921"
             ]
            ],
            "type": "histogram2dcontour"
           }
          ],
          "mesh3d": [
           {
            "colorbar": {
             "outlinewidth": 0,
             "ticks": ""
            },
            "type": "mesh3d"
           }
          ],
          "parcoords": [
           {
            "line": {
             "colorbar": {
              "outlinewidth": 0,
              "ticks": ""
             }
            },
            "type": "parcoords"
           }
          ],
          "pie": [
           {
            "automargin": true,
            "type": "pie"
           }
          ],
          "scatter": [
           {
            "fillpattern": {
             "fillmode": "overlay",
             "size": 10,
             "solidity": 0.2
            },
            "type": "scatter"
           }
          ],
          "scatter3d": [
           {
            "line": {
             "colorbar": {
              "outlinewidth": 0,
              "ticks": ""
             }
            },
            "marker": {
             "colorbar": {
              "outlinewidth": 0,
              "ticks": ""
             }
            },
            "type": "scatter3d"
           }
          ],
          "scattercarpet": [
           {
            "marker": {
             "colorbar": {
              "outlinewidth": 0,
              "ticks": ""
             }
            },
            "type": "scattercarpet"
           }
          ],
          "scattergeo": [
           {
            "marker": {
             "colorbar": {
              "outlinewidth": 0,
              "ticks": ""
             }
            },
            "type": "scattergeo"
           }
          ],
          "scattergl": [
           {
            "marker": {
             "colorbar": {
              "outlinewidth": 0,
              "ticks": ""
             }
            },
            "type": "scattergl"
           }
          ],
          "scattermap": [
           {
            "marker": {
             "colorbar": {
              "outlinewidth": 0,
              "ticks": ""
             }
            },
            "type": "scattermap"
           }
          ],
          "scattermapbox": [
           {
            "marker": {
             "colorbar": {
              "outlinewidth": 0,
              "ticks": ""
             }
            },
            "type": "scattermapbox"
           }
          ],
          "scatterpolar": [
           {
            "marker": {
             "colorbar": {
              "outlinewidth": 0,
              "ticks": ""
             }
            },
            "type": "scatterpolar"
           }
          ],
          "scatterpolargl": [
           {
            "marker": {
             "colorbar": {
              "outlinewidth": 0,
              "ticks": ""
             }
            },
            "type": "scatterpolargl"
           }
          ],
          "scatterternary": [
           {
            "marker": {
             "colorbar": {
              "outlinewidth": 0,
              "ticks": ""
             }
            },
            "type": "scatterternary"
           }
          ],
          "surface": [
           {
            "colorbar": {
             "outlinewidth": 0,
             "ticks": ""
            },
            "colorscale": [
             [
              0,
              "#0d0887"
             ],
             [
              0.1111111111111111,
              "#46039f"
             ],
             [
              0.2222222222222222,
              "#7201a8"
             ],
             [
              0.3333333333333333,
              "#9c179e"
             ],
             [
              0.4444444444444444,
              "#bd3786"
             ],
             [
              0.5555555555555556,
              "#d8576b"
             ],
             [
              0.6666666666666666,
              "#ed7953"
             ],
             [
              0.7777777777777778,
              "#fb9f3a"
             ],
             [
              0.8888888888888888,
              "#fdca26"
             ],
             [
              1,
              "#f0f921"
             ]
            ],
            "type": "surface"
           }
          ],
          "table": [
           {
            "cells": {
             "fill": {
              "color": "#EBF0F8"
             },
             "line": {
              "color": "white"
             }
            },
            "header": {
             "fill": {
              "color": "#C8D4E3"
             },
             "line": {
              "color": "white"
             }
            },
            "type": "table"
           }
          ]
         },
         "layout": {
          "annotationdefaults": {
           "arrowcolor": "#2a3f5f",
           "arrowhead": 0,
           "arrowwidth": 1
          },
          "autotypenumbers": "strict",
          "coloraxis": {
           "colorbar": {
            "outlinewidth": 0,
            "ticks": ""
           }
          },
          "colorscale": {
           "diverging": [
            [
             0,
             "#8e0152"
            ],
            [
             0.1,
             "#c51b7d"
            ],
            [
             0.2,
             "#de77ae"
            ],
            [
             0.3,
             "#f1b6da"
            ],
            [
             0.4,
             "#fde0ef"
            ],
            [
             0.5,
             "#f7f7f7"
            ],
            [
             0.6,
             "#e6f5d0"
            ],
            [
             0.7,
             "#b8e186"
            ],
            [
             0.8,
             "#7fbc41"
            ],
            [
             0.9,
             "#4d9221"
            ],
            [
             1,
             "#276419"
            ]
           ],
           "sequential": [
            [
             0,
             "#0d0887"
            ],
            [
             0.1111111111111111,
             "#46039f"
            ],
            [
             0.2222222222222222,
             "#7201a8"
            ],
            [
             0.3333333333333333,
             "#9c179e"
            ],
            [
             0.4444444444444444,
             "#bd3786"
            ],
            [
             0.5555555555555556,
             "#d8576b"
            ],
            [
             0.6666666666666666,
             "#ed7953"
            ],
            [
             0.7777777777777778,
             "#fb9f3a"
            ],
            [
             0.8888888888888888,
             "#fdca26"
            ],
            [
             1,
             "#f0f921"
            ]
           ],
           "sequentialminus": [
            [
             0,
             "#0d0887"
            ],
            [
             0.1111111111111111,
             "#46039f"
            ],
            [
             0.2222222222222222,
             "#7201a8"
            ],
            [
             0.3333333333333333,
             "#9c179e"
            ],
            [
             0.4444444444444444,
             "#bd3786"
            ],
            [
             0.5555555555555556,
             "#d8576b"
            ],
            [
             0.6666666666666666,
             "#ed7953"
            ],
            [
             0.7777777777777778,
             "#fb9f3a"
            ],
            [
             0.8888888888888888,
             "#fdca26"
            ],
            [
             1,
             "#f0f921"
            ]
           ]
          },
          "colorway": [
           "#636efa",
           "#EF553B",
           "#00cc96",
           "#ab63fa",
           "#FFA15A",
           "#19d3f3",
           "#FF6692",
           "#B6E880",
           "#FF97FF",
           "#FECB52"
          ],
          "font": {
           "color": "#2a3f5f"
          },
          "geo": {
           "bgcolor": "white",
           "lakecolor": "white",
           "landcolor": "#E5ECF6",
           "showlakes": true,
           "showland": true,
           "subunitcolor": "white"
          },
          "hoverlabel": {
           "align": "left"
          },
          "hovermode": "closest",
          "mapbox": {
           "style": "light"
          },
          "paper_bgcolor": "white",
          "plot_bgcolor": "#E5ECF6",
          "polar": {
           "angularaxis": {
            "gridcolor": "white",
            "linecolor": "white",
            "ticks": ""
           },
           "bgcolor": "#E5ECF6",
           "radialaxis": {
            "gridcolor": "white",
            "linecolor": "white",
            "ticks": ""
           }
          },
          "scene": {
           "xaxis": {
            "backgroundcolor": "#E5ECF6",
            "gridcolor": "white",
            "gridwidth": 2,
            "linecolor": "white",
            "showbackground": true,
            "ticks": "",
            "zerolinecolor": "white"
           },
           "yaxis": {
            "backgroundcolor": "#E5ECF6",
            "gridcolor": "white",
            "gridwidth": 2,
            "linecolor": "white",
            "showbackground": true,
            "ticks": "",
            "zerolinecolor": "white"
           },
           "zaxis": {
            "backgroundcolor": "#E5ECF6",
            "gridcolor": "white",
            "gridwidth": 2,
            "linecolor": "white",
            "showbackground": true,
            "ticks": "",
            "zerolinecolor": "white"
           }
          },
          "shapedefaults": {
           "line": {
            "color": "#2a3f5f"
           }
          },
          "ternary": {
           "aaxis": {
            "gridcolor": "white",
            "linecolor": "white",
            "ticks": ""
           },
           "baxis": {
            "gridcolor": "white",
            "linecolor": "white",
            "ticks": ""
           },
           "bgcolor": "#E5ECF6",
           "caxis": {
            "gridcolor": "white",
            "linecolor": "white",
            "ticks": ""
           }
          },
          "title": {
           "x": 0.05
          },
          "xaxis": {
           "automargin": true,
           "gridcolor": "white",
           "linecolor": "white",
           "ticks": "",
           "title": {
            "standoff": 15
           },
           "zerolinecolor": "white",
           "zerolinewidth": 2
          },
          "yaxis": {
           "automargin": true,
           "gridcolor": "white",
           "linecolor": "white",
           "ticks": "",
           "title": {
            "standoff": 15
           },
           "zerolinecolor": "white",
           "zerolinewidth": 2
          }
         }
        },
        "xaxis": {
         "anchor": "y",
         "domain": [
          0,
          1
         ],
         "title": {
          "text": "value"
         }
        },
        "yaxis": {
         "anchor": "x",
         "domain": [
          0,
          1
         ],
         "title": {
          "text": "count"
         }
        }
       }
      }
     },
     "metadata": {},
     "output_type": "display_data"
    }
   ],
   "source": [
    "# Load ecommerce sales data for bootstrap analysis\n",
    "df = pd.read_csv('data/ecommerce_sales.csv')\n",
    "\n",
    "# Define function to demonstrate Central Limit Theorem through bootstrapping\n",
    "def bootstrap_CLT(input_df, column, sample_size=100, trials=1000):\n",
    "    # Initialize list to store sample means\n",
    "    sample_means = []\n",
    "    # Perform bootstrap sampling: repeatedly sample with replacement\n",
    "    for i in range(trials):\n",
    "        # Take a random sample of specified size with replacement\n",
    "        our_sample = input_df[column].sample(sample_size, replace=True)\n",
    "        # Calculate mean of this bootstrap sample\n",
    "        sample_mean = our_sample.mean()\n",
    "        # Store the sample mean\n",
    "        sample_means.append(sample_mean)\n",
    "    \n",
    "    # Create histogram of bootstrap sample means to show CLT in action\n",
    "    fig = px.histogram(sample_means)\n",
    "    fig.show()\n",
    "\n",
    "# Apply bootstrap analysis to revenue column\n",
    "bootstrap_CLT(df, 'revenue')"
   ]
  },
  {
   "cell_type": "code",
   "execution_count": null,
   "id": "0db0f069",
   "metadata": {},
   "outputs": [],
   "source": []
  },
  {
   "cell_type": "code",
   "execution_count": null,
   "id": "8763d797",
   "metadata": {},
   "outputs": [],
   "source": []
  },
  {
   "cell_type": "markdown",
   "id": "eb7bda72",
   "metadata": {},
   "source": [
    "## 5) Hypothesis Testing\n",
    "To make statements about a population, we need to hypothesis test to back a claim or assumption about our population.\n",
    "### Hypothesis\n",
    "#### Null Hypothesis H<sub>0<sub>\n",
    "Assumes nothing interesting is happening, so if it is falsified, then something interesting is indeed happening. The status quo, the no effect.\n",
    "- Average daily Netflix watch time is 2 hours. \n",
    "- Free shipping has no effect on purchase decisions.\n",
    "#### Alternative Hypothesis H<sub>1<sub>\n",
    "Claims something interesting is happening, so if it is proven, …then something interesting is indeed happening.\n",
    "- Average daily Netflix watch time is more than 2 hours.\n",
    "- Free shipping increases number of purchases.\n",
    "### p-value\n",
    "The p-value is the probability of seeing at least the results you have, given that the null hypothesis is true.\n",
    "- If p-value low = not likely to see our results given the null hypothesis is true\n",
    "    - This means we can reject null hypothesis\n",
    "- If p-value high = it is likely to see our results given the null hypothesis is true\n",
    "    - We cannot reject null hypothesis\n",
    "\n",
    "Usually we set cutoff of what is a *statistically significant* p-value at 0.05.\n",
    "\n",
    "### Types of Tests\n",
    "#### T-test (Continuous)\n",
    "A t-test compares means to see whether the difference between two groups are significant of continuous data.\n",
    "- Ex: The average test scores of two sections are 70 and 80 and we want to see if the 10 point average difference is significant.\n",
    "    - Testing test score averages\n",
    "#### Chi-Squared Test (Categorical/Qualitative)\n",
    "A Chi-squared test compares frequencies to see whether the difference between two categories are significant.\n",
    "- Ex: You want to know if there are equal numbers of male and female turtles in a pond.\n",
    "    - Testing male and female turtle counts \n",
    "- We use Chi-Squared to compare how different categories perform and to see if there is any significant difference between categories. This can help with business decisions such as seeing which group/region is doing better or needs extra attention.\n"
   ]
  },
  {
   "cell_type": "markdown",
   "id": "91d14be7",
   "metadata": {},
   "source": [
    "\n",
    "\n",
    "We’ll compare **Group A vs Group B**.\n",
    "\n",
    "**Tasks**\n",
    "- Formulate H0/H1 about mean `revenue` (or conversion rate if you have a binary column).\n",
    "- Use a **two-sample t‑test** on `revenue`. Interpret p‑value.\n",
    "- (Optional) For categorical outcomes, use **chi-square**.\n",
    "\n",
    "> *Why?* This is the backbone of A/B testing."
   ]
  },
  {
   "cell_type": "code",
   "execution_count": null,
   "id": "a0951ffc",
   "metadata": {},
   "outputs": [
    {
     "data": {
      "text/html": [
       "<div>\n",
       "<style scoped>\n",
       "    .dataframe tbody tr th:only-of-type {\n",
       "        vertical-align: middle;\n",
       "    }\n",
       "\n",
       "    .dataframe tbody tr th {\n",
       "        vertical-align: top;\n",
       "    }\n",
       "\n",
       "    .dataframe thead th {\n",
       "        text-align: right;\n",
       "    }\n",
       "</style>\n",
       "<table border=\"1\" class=\"dataframe\">\n",
       "  <thead>\n",
       "    <tr style=\"text-align: right;\">\n",
       "      <th></th>\n",
       "      <th>group</th>\n",
       "      <th>revenue</th>\n",
       "    </tr>\n",
       "  </thead>\n",
       "  <tbody>\n",
       "    <tr>\n",
       "      <th>120</th>\n",
       "      <td>treatment</td>\n",
       "      <td>34.266081</td>\n",
       "    </tr>\n",
       "    <tr>\n",
       "      <th>39</th>\n",
       "      <td>control</td>\n",
       "      <td>48.097669</td>\n",
       "    </tr>\n",
       "    <tr>\n",
       "      <th>131</th>\n",
       "      <td>treatment</td>\n",
       "      <td>49.290140</td>\n",
       "    </tr>\n",
       "    <tr>\n",
       "      <th>31</th>\n",
       "      <td>control</td>\n",
       "      <td>65.917631</td>\n",
       "    </tr>\n",
       "    <tr>\n",
       "      <th>17</th>\n",
       "      <td>control</td>\n",
       "      <td>30.528767</td>\n",
       "    </tr>\n",
       "    <tr>\n",
       "      <th>71</th>\n",
       "      <td>control</td>\n",
       "      <td>48.421235</td>\n",
       "    </tr>\n",
       "    <tr>\n",
       "      <th>152</th>\n",
       "      <td>treatment</td>\n",
       "      <td>51.104032</td>\n",
       "    </tr>\n",
       "    <tr>\n",
       "      <th>14</th>\n",
       "      <td>control</td>\n",
       "      <td>36.711592</td>\n",
       "    </tr>\n",
       "    <tr>\n",
       "      <th>128</th>\n",
       "      <td>treatment</td>\n",
       "      <td>61.919157</td>\n",
       "    </tr>\n",
       "    <tr>\n",
       "      <th>7</th>\n",
       "      <td>control</td>\n",
       "      <td>60.562991</td>\n",
       "    </tr>\n",
       "  </tbody>\n",
       "</table>\n",
       "</div>"
      ],
      "text/plain": [
       "         group    revenue\n",
       "120  treatment  34.266081\n",
       "39     control  48.097669\n",
       "131  treatment  49.290140\n",
       "31     control  65.917631\n",
       "17     control  30.528767\n",
       "71     control  48.421235\n",
       "152  treatment  51.104032\n",
       "14     control  36.711592\n",
       "128  treatment  61.919157\n",
       "7      control  60.562991"
      ]
     },
     "execution_count": 18,
     "metadata": {},
     "output_type": "execute_result"
    }
   ],
   "source": [
    "# Import necessary libraries for statistical analysis and visualization\n",
    "import numpy as np  # Numerical operations\n",
    "import pandas as pd  # Data manipulation\n",
    "from scipy import stats  # Statistical functions\n",
    "\n",
    "import matplotlib.pyplot as plt  # Plotting\n",
    "import seaborn as sns  # Statistical visualization\n",
    "\n",
    "# Set random seed for reproducible results\n",
    "np.random.seed(69)\n",
    "\n",
    "# Generate synthetic revenue data for A/B testing simulation\n",
    "# Control group: normal distribution with mean=50, std=10\n",
    "control = np.random.normal(loc=50, scale=10, size=100)   \n",
    "# Treatment group: normal distribution with mean=54, std=10 (slightly higher mean)\n",
    "treatment = np.random.normal(loc=54, scale=10, size=100) \n",
    "\n",
    "# Combine data into a structured DataFrame for analysis\n",
    "df = pd.DataFrame({\n",
    "    'group': ['control'] * 100 + ['treatment'] * 100,  # Group labels\n",
    "    'revenue': np.concatenate([control, treatment])  # Combined revenue data\n",
    "})\n",
    "\n",
    "# Preview a random sample of the data to verify structure\n",
    "df.sample(10)\n"
   ]
  },
  {
   "cell_type": "code",
   "execution_count": null,
   "id": "f001bded",
   "metadata": {},
   "outputs": [
    {
     "name": "stdout",
     "output_type": "stream",
     "text": [
      "T-statistic: 2.66\n",
      "P-value: 0.00854\n",
      "The difference is statistically significant — the new feature increased revenue!\n"
     ]
    }
   ],
   "source": [
    "# Split the data into control and treatment groups for comparison\n",
    "control_rev = df[df['group'] == 'control']['revenue']  # Extract control group revenue\n",
    "treatment_rev = df[df['group'] == 'treatment']['revenue']  # Extract treatment group revenue\n",
    "\n",
    "# Perform independent two-sample t-test (Welch's t-test with unequal variances)\n",
    "t_stat, p_val = stats.ttest_ind(treatment_rev, control_rev, equal_var=False)\n",
    "\n",
    "# Display the test results\n",
    "print(f\"T-statistic: {t_stat:.2f}\")  # Test statistic (how many standard errors apart)\n",
    "print(f\"P-value: {p_val:.5f}\")  # Probability of observing this difference by chance\n",
    "\n",
    "# Statistical interpretation based on significance level\n",
    "alpha = 0.05  # 5% significance level (standard threshold)\n",
    "if p_val < alpha:\n",
    "    print(\"The difference is statistically significant — the new feature increased revenue!\")\n",
    "else:\n",
    "    print(\"The difference is not statistically significant — no evidence the feature changed revenue.\")\n",
    "\n"
   ]
  },
  {
   "cell_type": "markdown",
   "id": "79446f31",
   "metadata": {},
   "source": [
    "| Concept                           | Explanation                                                         |\n",
    "| --------------------------------- | ------------------------------------------------------------------- |\n",
    "| **Null Hypothesis (H₀)**          | The new feature does **not** change revenue.                        |\n",
    "| **Alternative Hypothesis (H₁)**   | The new feature **does** change revenue.                            |\n",
    "| **t-statistic**                   | Measures how many standard errors apart the group means are.        |\n",
    "| **p-value**                       | Probability of seeing this difference (or larger) if H₀ were true.  |\n",
    "| **Significance level (α = 0.05)** | If `p < 0.05`, we reject H₀ and conclude the feature had an effect. |\n"
   ]
  },
  {
   "cell_type": "code",
   "execution_count": null,
   "id": "03dd3398",
   "metadata": {},
   "outputs": [
    {
     "name": "stdout",
     "output_type": "stream",
     "text": [
      "Average Revenue (Control): $49.62\n",
      "Average Revenue (Treatment): $53.72\n",
      "Absolute Increase: $4.11\n",
      "Percent Increase: 8.3%\n",
      "\n",
      "--- Interpretation ---\n",
      "The new feature increased average revenue by 8.3% per user.\n"
     ]
    }
   ],
   "source": [
    "# Calculate business impact metrics for the A/B test\n",
    "# Calculate group averages\n",
    "control_mean = control_rev.mean()  # Average revenue for control group\n",
    "treatment_mean = treatment_rev.mean()  # Average revenue for treatment group\n",
    "\n",
    "# Calculate the difference and percent increase\n",
    "absolute_increase = treatment_mean - control_mean  # Dollar difference\n",
    "percent_increase = (absolute_increase / control_mean) * 100  # Percentage change\n",
    "\n",
    "# Display the business metrics\n",
    "print(f\"Average Revenue (Control): ${control_mean:.2f}\")\n",
    "print(f\"Average Revenue (Treatment): ${treatment_mean:.2f}\")\n",
    "print(f\"Absolute Increase: ${absolute_increase:.2f}\")\n",
    "print(f\"Percent Increase: {percent_increase:.1f}%\")\n",
    "\n",
    "# Provide business interpretation of the results\n",
    "print(\"\\n--- Interpretation ---\")\n",
    "if percent_increase > 0:\n",
    "    print(f\"The new feature increased average revenue by {percent_increase:.1f}% per user.\")\n",
    "else:\n",
    "    print(f\"The new feature decreased average revenue by {abs(percent_increase):.1f}% per user.\")\n"
   ]
  },
  {
   "cell_type": "code",
   "execution_count": null,
   "id": "a3865bfb",
   "metadata": {},
   "outputs": [
    {
     "data": {
      "image/png": "[encoded data removed]",
      "text/plain": [
       "<Figure size 700x400 with 1 Axes>"
      ]
     },
     "metadata": {},
     "output_type": "display_data"
    }
   ],
   "source": [
    "\n",
    "# Create visualization comparing revenue distributions between groups\n",
    "# Calculate means for reference lines\n",
    "control_mean = np.mean(control_rev)  # Control group average\n",
    "treat_mean = np.mean(treatment_rev)  # Treatment group average\n",
    "\n",
    "# Set up the plot with seaborn style\n",
    "plt.style.use('seaborn-v0_8-whitegrid')\n",
    "plt.figure(figsize=(7,4))\n",
    "\n",
    "# Create density plots (kernel density estimation) for each group\n",
    "sns.kdeplot(control_rev, fill=True, label='Control', color='#7aa6c2')  # Blue for control\n",
    "sns.kdeplot(treatment_rev, fill=True, label='Treatment', color='#76c893')  # Green for treatment\n",
    "\n",
    "# Add vertical lines to mark the means for easy comparison\n",
    "plt.axvline(control_mean, color='#4a7ba7', linestyle='--', linewidth=2, label=f'Control Mean (${control_mean:.2f})')\n",
    "plt.axvline(treat_mean, color='#3e9c73', linestyle='--', linewidth=2, label=f'Treatment Mean (${treat_mean:.2f})')\n",
    "\n",
    "# Add titles, labels, and formatting\n",
    "plt.title('Distribution of Revenue per User — Control vs Treatment', fontsize=13, weight='bold')\n",
    "plt.xlabel('Revenue ($)')\n",
    "plt.ylabel('Density')\n",
    "plt.legend(title='Group', fontsize=10)\n",
    "plt.tight_layout()  # Adjust layout to prevent overlap\n",
    "plt.show()\n"
   ]
  },
  {
   "cell_type": "markdown",
   "id": "d73aaf36",
   "metadata": {},
   "source": [
    "## 6) Correlation & Regression\n",
    "\n",
    "**Tasks**\n",
    "- Correlation matrix for `sessions`, `ad_spend`, `purchases`, `revenue`.\n",
    "- Fit **linear regression**: `revenue ~ ad_spend + sessions + C(region)`.\n",
    "- Interpret coefficients in a business context (magnitude & sign, not just p‑values).\n",
    "\n",
    "> *Why?* Regression is widely used in industry for forecasting and attribution."
   ]
  },
  {
   "cell_type": "code",
   "execution_count": null,
   "id": "757bd71b",
   "metadata": {},
   "outputs": [
    {
     "data": {
      "text/html": [
       "<div>\n",
       "<style scoped>\n",
       "    .dataframe tbody tr th:only-of-type {\n",
       "        vertical-align: middle;\n",
       "    }\n",
       "\n",
       "    .dataframe tbody tr th {\n",
       "        vertical-align: top;\n",
       "    }\n",
       "\n",
       "    .dataframe thead th {\n",
       "        text-align: right;\n",
       "    }\n",
       "</style>\n",
       "<table border=\"1\" class=\"dataframe\">\n",
       "  <thead>\n",
       "    <tr style=\"text-align: right;\">\n",
       "      <th></th>\n",
       "      <th>sessions</th>\n",
       "      <th>ad_spend</th>\n",
       "      <th>purchases</th>\n",
       "      <th>revenue</th>\n",
       "    </tr>\n",
       "  </thead>\n",
       "  <tbody>\n",
       "    <tr>\n",
       "      <th>sessions</th>\n",
       "      <td>1.00</td>\n",
       "      <td>0.16</td>\n",
       "      <td>0.20</td>\n",
       "      <td>0.16</td>\n",
       "    </tr>\n",
       "    <tr>\n",
       "      <th>ad_spend</th>\n",
       "      <td>0.16</td>\n",
       "      <td>1.00</td>\n",
       "      <td>0.03</td>\n",
       "      <td>0.03</td>\n",
       "    </tr>\n",
       "    <tr>\n",
       "      <th>purchases</th>\n",
       "      <td>0.20</td>\n",
       "      <td>0.03</td>\n",
       "      <td>1.00</td>\n",
       "      <td>0.82</td>\n",
       "    </tr>\n",
       "    <tr>\n",
       "      <th>revenue</th>\n",
       "      <td>0.16</td>\n",
       "      <td>0.03</td>\n",
       "      <td>0.82</td>\n",
       "      <td>1.00</td>\n",
       "    </tr>\n",
       "  </tbody>\n",
       "</table>\n",
       "</div>"
      ],
      "text/plain": [
       "           sessions  ad_spend  purchases  revenue\n",
       "sessions       1.00      0.16       0.20     0.16\n",
       "ad_spend       0.16      1.00       0.03     0.03\n",
       "purchases      0.20      0.03       1.00     0.82\n",
       "revenue        0.16      0.03       0.82     1.00"
      ]
     },
     "execution_count": 23,
     "metadata": {},
     "output_type": "execute_result"
    }
   ],
   "source": [
    "# Load ecommerce sales data for correlation analysis\n",
    "df = pd.read_csv('data/ecommerce_sales.csv')\n",
    "# Select key business metrics for correlation analysis\n",
    "cols = [\"sessions\",\"ad_spend\",\"purchases\",\"revenue\"]\n",
    "# Calculate correlation matrix and round to 2 decimal places for readability\n",
    "corr = df[cols].corr().round(2)\n",
    "# Display the correlation matrix\n",
    "corr"
   ]
  },
  {
   "cell_type": "code",
   "execution_count": null,
   "id": "85c8aa10",
   "metadata": {},
   "outputs": [
    {
     "data": {
      "image/png": "[encoded data removed]",
      "text/plain": [
       "<Figure size 1300x800 with 2 Axes>"
      ]
     },
     "metadata": {},
     "output_type": "display_data"
    }
   ],
   "source": [
    "# Create a heatmap visualization of the correlation matrix\n",
    "sns.heatmap(corr, annot=True, vmin=-1, vmax=1)  # Show correlation values, scale from -1 to 1\n",
    "plt.title(\"Correlation Heatmap\")\n",
    "plt.show()"
   ]
  },
  {
   "cell_type": "code",
   "execution_count": null,
   "id": "dcddaf20",
   "metadata": {},
   "outputs": [
    {
     "data": {
      "image/png": "[encoded data removed]",
      "text/plain": [
       "<Figure size 1300x800 with 2 Axes>"
      ]
     },
     "metadata": {},
     "output_type": "display_data"
    }
   ],
   "source": [
    "# Create an enhanced heatmap with color-coded correlation values\n",
    "sns.heatmap(corr, annot=True, vmin=-1, vmax=1, cmap='coolwarm')  # Use coolwarm colormap for better visual distinction\n",
    "plt.title(\"Correlation Heatmap\")\n",
    "plt.show()"
   ]
  },
  {
   "cell_type": "code",
   "execution_count": null,
   "id": "d58a9e39",
   "metadata": {},
   "outputs": [],
   "source": []
  }
 ],
 "metadata": {
  "kernelspec": {
   "display_name": "Python 3",
   "language": "python",
   "name": "python3"
  },
  "language_info": {
   "codemirror_mode": {
    "name": "ipython",
    "version": 3
   },
   "file_extension": ".py",
   "mimetype": "text/x-python",
   "name": "python",
   "nbconvert_exporter": "python",
   "pygments_lexer": "ipython3",
   "version": "3.12.1"
  }
 },
 "nbformat": 4,
 "nbformat_minor": 5
}
